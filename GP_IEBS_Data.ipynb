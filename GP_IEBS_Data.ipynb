{
  "nbformat": 4,
  "nbformat_minor": 0,
  "metadata": {
    "colab": {
      "provenance": [],
      "gpuType": "A100",
      "toc_visible": true
    },
    "kernelspec": {
      "name": "python3",
      "display_name": "Python 3"
    },
    "language_info": {
      "name": "python"
    },
    "accelerator": "GPU"
  },
  "cells": [
    {
      "cell_type": "markdown",
      "source": [
        "#GLOBAL PROJECT\n",
        "\n",
        "**Postgrado en Inteligencia Artificial y Machine Learning (10ª edición)**\n",
        "\n",
        "Leticia Cervieri Lores"
      ],
      "metadata": {
        "id": "TnlZX59fJJHv"
      }
    },
    {
      "cell_type": "markdown",
      "source": [
        "**FASE INICIAL: Procesamiento y fusión de datasets**"
      ],
      "metadata": {
        "id": "_f_6F_whC8em"
      }
    },
    {
      "cell_type": "markdown",
      "source": [
        "##Carga de archivos y procesamiento de datos\n",
        "\n",
        "Cargamos los diferentes datasets y procesamos los diferentes dataframes para asegurar que todos tengan el mismo formato:\n",
        "\n",
        "[0] \"text\" --> str\n",
        "\n",
        "[1] \"region\" --> int (binario 0=latam/1=europe)\n",
        "\n",
        "[2] \"dtst\" --> str\n",
        "\n",
        "[3] \"label\" --> int (binario 0=no_toxic/1=toxic)\n"
      ],
      "metadata": {
        "id": "fBVPx2TDJVfP"
      }
    },
    {
      "cell_type": "code",
      "execution_count": null,
      "metadata": {
        "id": "FRUY-BDercE8"
      },
      "outputs": [],
      "source": [
        "# Importar librerías necesarias\n",
        "import pandas as pd\n",
        "import numpy as np"
      ]
    },
    {
      "cell_type": "markdown",
      "source": [
        "###HaSCoSVa"
      ],
      "metadata": {
        "id": "loM1pLT8sIKa"
      }
    },
    {
      "cell_type": "code",
      "source": [
        "# Cargar el archivo del dataset HaSCoSVa en un dataframe\n",
        "file_path = '/content/gpdata_hascosva.tsv'\n",
        "df_h = pd.read_csv(file_path, sep='\\t')\n",
        "\n",
        "# Explorar el tamaño del dataframe\n",
        "tamaño = df_h.shape\n",
        "print(f\"Tamaño del DataFrame HaSCoSVa: {tamaño}\")\n",
        "\n",
        "# Mostrar los nombres de las columnas\n",
        "nombres_columnas = df_h.columns.tolist()\n",
        "print(f\"Nombres de las columnas: {nombres_columnas}\")"
      ],
      "metadata": {
        "colab": {
          "base_uri": "https://localhost:8080/"
        },
        "id": "3OaBa_EnsH83",
        "outputId": "0c2be1e0-e6c1-4141-f310-0b165102ec94"
      },
      "execution_count": null,
      "outputs": [
        {
          "output_type": "stream",
          "name": "stdout",
          "text": [
            "Tamaño del DataFrame HaSCoSVa: (4000, 3)\n",
            "Nombres de las columnas: ['text', 'label', 'variation']\n"
          ]
        }
      ]
    },
    {
      "cell_type": "code",
      "source": [
        "# Mirar los primeros datos\n",
        "df_h.head()"
      ],
      "metadata": {
        "id": "t2TTooMaL9Mt",
        "colab": {
          "base_uri": "https://localhost:8080/",
          "height": 206
        },
        "outputId": "5dd70bc4-10e9-44c1-e097-dc697e3c4e4d"
      },
      "execution_count": null,
      "outputs": [
        {
          "output_type": "execute_result",
          "data": {
            "text/plain": [
              "                                                text  label variation\n",
              "0  Avión venezolano: ocho tripulantes coinciden e...      0     latam\n",
              "1  Aquí pidiéndole consejos al amigo veneco pa so...      0     latam\n",
              "2  @oamz Cínicos desinforman con guión preparado,...      0     latam\n",
              "3                   @oamj No se chama dime tu 🤭🤭🤣😛😅😅      0     latam\n",
              "4  Gobierno de Bélgica ustedes que albergan a Raf...      0     latam"
            ],
            "text/html": [
              "\n",
              "  <div id=\"df-11dec1ad-221a-45ca-bf00-4fd5201641ae\" class=\"colab-df-container\">\n",
              "    <div>\n",
              "<style scoped>\n",
              "    .dataframe tbody tr th:only-of-type {\n",
              "        vertical-align: middle;\n",
              "    }\n",
              "\n",
              "    .dataframe tbody tr th {\n",
              "        vertical-align: top;\n",
              "    }\n",
              "\n",
              "    .dataframe thead th {\n",
              "        text-align: right;\n",
              "    }\n",
              "</style>\n",
              "<table border=\"1\" class=\"dataframe\">\n",
              "  <thead>\n",
              "    <tr style=\"text-align: right;\">\n",
              "      <th></th>\n",
              "      <th>text</th>\n",
              "      <th>label</th>\n",
              "      <th>variation</th>\n",
              "    </tr>\n",
              "  </thead>\n",
              "  <tbody>\n",
              "    <tr>\n",
              "      <th>0</th>\n",
              "      <td>Avión venezolano: ocho tripulantes coinciden e...</td>\n",
              "      <td>0</td>\n",
              "      <td>latam</td>\n",
              "    </tr>\n",
              "    <tr>\n",
              "      <th>1</th>\n",
              "      <td>Aquí pidiéndole consejos al amigo veneco pa so...</td>\n",
              "      <td>0</td>\n",
              "      <td>latam</td>\n",
              "    </tr>\n",
              "    <tr>\n",
              "      <th>2</th>\n",
              "      <td>@oamz Cínicos desinforman con guión preparado,...</td>\n",
              "      <td>0</td>\n",
              "      <td>latam</td>\n",
              "    </tr>\n",
              "    <tr>\n",
              "      <th>3</th>\n",
              "      <td>@oamj No se chama dime tu 🤭🤭🤣😛😅😅</td>\n",
              "      <td>0</td>\n",
              "      <td>latam</td>\n",
              "    </tr>\n",
              "    <tr>\n",
              "      <th>4</th>\n",
              "      <td>Gobierno de Bélgica ustedes que albergan a Raf...</td>\n",
              "      <td>0</td>\n",
              "      <td>latam</td>\n",
              "    </tr>\n",
              "  </tbody>\n",
              "</table>\n",
              "</div>\n",
              "    <div class=\"colab-df-buttons\">\n",
              "\n",
              "  <div class=\"colab-df-container\">\n",
              "    <button class=\"colab-df-convert\" onclick=\"convertToInteractive('df-11dec1ad-221a-45ca-bf00-4fd5201641ae')\"\n",
              "            title=\"Convert this dataframe to an interactive table.\"\n",
              "            style=\"display:none;\">\n",
              "\n",
              "  <svg xmlns=\"http://www.w3.org/2000/svg\" height=\"24px\" viewBox=\"0 -960 960 960\">\n",
              "    <path d=\"M120-120v-720h720v720H120Zm60-500h600v-160H180v160Zm220 220h160v-160H400v160Zm0 220h160v-160H400v160ZM180-400h160v-160H180v160Zm440 0h160v-160H620v160ZM180-180h160v-160H180v160Zm440 0h160v-160H620v160Z\"/>\n",
              "  </svg>\n",
              "    </button>\n",
              "\n",
              "  <style>\n",
              "    .colab-df-container {\n",
              "      display:flex;\n",
              "      gap: 12px;\n",
              "    }\n",
              "\n",
              "    .colab-df-convert {\n",
              "      background-color: #E8F0FE;\n",
              "      border: none;\n",
              "      border-radius: 50%;\n",
              "      cursor: pointer;\n",
              "      display: none;\n",
              "      fill: #1967D2;\n",
              "      height: 32px;\n",
              "      padding: 0 0 0 0;\n",
              "      width: 32px;\n",
              "    }\n",
              "\n",
              "    .colab-df-convert:hover {\n",
              "      background-color: #E2EBFA;\n",
              "      box-shadow: 0px 1px 2px rgba(60, 64, 67, 0.3), 0px 1px 3px 1px rgba(60, 64, 67, 0.15);\n",
              "      fill: #174EA6;\n",
              "    }\n",
              "\n",
              "    .colab-df-buttons div {\n",
              "      margin-bottom: 4px;\n",
              "    }\n",
              "\n",
              "    [theme=dark] .colab-df-convert {\n",
              "      background-color: #3B4455;\n",
              "      fill: #D2E3FC;\n",
              "    }\n",
              "\n",
              "    [theme=dark] .colab-df-convert:hover {\n",
              "      background-color: #434B5C;\n",
              "      box-shadow: 0px 1px 3px 1px rgba(0, 0, 0, 0.15);\n",
              "      filter: drop-shadow(0px 1px 2px rgba(0, 0, 0, 0.3));\n",
              "      fill: #FFFFFF;\n",
              "    }\n",
              "  </style>\n",
              "\n",
              "    <script>\n",
              "      const buttonEl =\n",
              "        document.querySelector('#df-11dec1ad-221a-45ca-bf00-4fd5201641ae button.colab-df-convert');\n",
              "      buttonEl.style.display =\n",
              "        google.colab.kernel.accessAllowed ? 'block' : 'none';\n",
              "\n",
              "      async function convertToInteractive(key) {\n",
              "        const element = document.querySelector('#df-11dec1ad-221a-45ca-bf00-4fd5201641ae');\n",
              "        const dataTable =\n",
              "          await google.colab.kernel.invokeFunction('convertToInteractive',\n",
              "                                                    [key], {});\n",
              "        if (!dataTable) return;\n",
              "\n",
              "        const docLinkHtml = 'Like what you see? Visit the ' +\n",
              "          '<a target=\"_blank\" href=https://colab.research.google.com/notebooks/data_table.ipynb>data table notebook</a>'\n",
              "          + ' to learn more about interactive tables.';\n",
              "        element.innerHTML = '';\n",
              "        dataTable['output_type'] = 'display_data';\n",
              "        await google.colab.output.renderOutput(dataTable, element);\n",
              "        const docLink = document.createElement('div');\n",
              "        docLink.innerHTML = docLinkHtml;\n",
              "        element.appendChild(docLink);\n",
              "      }\n",
              "    </script>\n",
              "  </div>\n",
              "\n",
              "\n",
              "<div id=\"df-224d1379-2499-4844-8235-389162e40f1b\">\n",
              "  <button class=\"colab-df-quickchart\" onclick=\"quickchart('df-224d1379-2499-4844-8235-389162e40f1b')\"\n",
              "            title=\"Suggest charts\"\n",
              "            style=\"display:none;\">\n",
              "\n",
              "<svg xmlns=\"http://www.w3.org/2000/svg\" height=\"24px\"viewBox=\"0 0 24 24\"\n",
              "     width=\"24px\">\n",
              "    <g>\n",
              "        <path d=\"M19 3H5c-1.1 0-2 .9-2 2v14c0 1.1.9 2 2 2h14c1.1 0 2-.9 2-2V5c0-1.1-.9-2-2-2zM9 17H7v-7h2v7zm4 0h-2V7h2v10zm4 0h-2v-4h2v4z\"/>\n",
              "    </g>\n",
              "</svg>\n",
              "  </button>\n",
              "\n",
              "<style>\n",
              "  .colab-df-quickchart {\n",
              "      --bg-color: #E8F0FE;\n",
              "      --fill-color: #1967D2;\n",
              "      --hover-bg-color: #E2EBFA;\n",
              "      --hover-fill-color: #174EA6;\n",
              "      --disabled-fill-color: #AAA;\n",
              "      --disabled-bg-color: #DDD;\n",
              "  }\n",
              "\n",
              "  [theme=dark] .colab-df-quickchart {\n",
              "      --bg-color: #3B4455;\n",
              "      --fill-color: #D2E3FC;\n",
              "      --hover-bg-color: #434B5C;\n",
              "      --hover-fill-color: #FFFFFF;\n",
              "      --disabled-bg-color: #3B4455;\n",
              "      --disabled-fill-color: #666;\n",
              "  }\n",
              "\n",
              "  .colab-df-quickchart {\n",
              "    background-color: var(--bg-color);\n",
              "    border: none;\n",
              "    border-radius: 50%;\n",
              "    cursor: pointer;\n",
              "    display: none;\n",
              "    fill: var(--fill-color);\n",
              "    height: 32px;\n",
              "    padding: 0;\n",
              "    width: 32px;\n",
              "  }\n",
              "\n",
              "  .colab-df-quickchart:hover {\n",
              "    background-color: var(--hover-bg-color);\n",
              "    box-shadow: 0 1px 2px rgba(60, 64, 67, 0.3), 0 1px 3px 1px rgba(60, 64, 67, 0.15);\n",
              "    fill: var(--button-hover-fill-color);\n",
              "  }\n",
              "\n",
              "  .colab-df-quickchart-complete:disabled,\n",
              "  .colab-df-quickchart-complete:disabled:hover {\n",
              "    background-color: var(--disabled-bg-color);\n",
              "    fill: var(--disabled-fill-color);\n",
              "    box-shadow: none;\n",
              "  }\n",
              "\n",
              "  .colab-df-spinner {\n",
              "    border: 2px solid var(--fill-color);\n",
              "    border-color: transparent;\n",
              "    border-bottom-color: var(--fill-color);\n",
              "    animation:\n",
              "      spin 1s steps(1) infinite;\n",
              "  }\n",
              "\n",
              "  @keyframes spin {\n",
              "    0% {\n",
              "      border-color: transparent;\n",
              "      border-bottom-color: var(--fill-color);\n",
              "      border-left-color: var(--fill-color);\n",
              "    }\n",
              "    20% {\n",
              "      border-color: transparent;\n",
              "      border-left-color: var(--fill-color);\n",
              "      border-top-color: var(--fill-color);\n",
              "    }\n",
              "    30% {\n",
              "      border-color: transparent;\n",
              "      border-left-color: var(--fill-color);\n",
              "      border-top-color: var(--fill-color);\n",
              "      border-right-color: var(--fill-color);\n",
              "    }\n",
              "    40% {\n",
              "      border-color: transparent;\n",
              "      border-right-color: var(--fill-color);\n",
              "      border-top-color: var(--fill-color);\n",
              "    }\n",
              "    60% {\n",
              "      border-color: transparent;\n",
              "      border-right-color: var(--fill-color);\n",
              "    }\n",
              "    80% {\n",
              "      border-color: transparent;\n",
              "      border-right-color: var(--fill-color);\n",
              "      border-bottom-color: var(--fill-color);\n",
              "    }\n",
              "    90% {\n",
              "      border-color: transparent;\n",
              "      border-bottom-color: var(--fill-color);\n",
              "    }\n",
              "  }\n",
              "</style>\n",
              "\n",
              "  <script>\n",
              "    async function quickchart(key) {\n",
              "      const quickchartButtonEl =\n",
              "        document.querySelector('#' + key + ' button');\n",
              "      quickchartButtonEl.disabled = true;  // To prevent multiple clicks.\n",
              "      quickchartButtonEl.classList.add('colab-df-spinner');\n",
              "      try {\n",
              "        const charts = await google.colab.kernel.invokeFunction(\n",
              "            'suggestCharts', [key], {});\n",
              "      } catch (error) {\n",
              "        console.error('Error during call to suggestCharts:', error);\n",
              "      }\n",
              "      quickchartButtonEl.classList.remove('colab-df-spinner');\n",
              "      quickchartButtonEl.classList.add('colab-df-quickchart-complete');\n",
              "    }\n",
              "    (() => {\n",
              "      let quickchartButtonEl =\n",
              "        document.querySelector('#df-224d1379-2499-4844-8235-389162e40f1b button');\n",
              "      quickchartButtonEl.style.display =\n",
              "        google.colab.kernel.accessAllowed ? 'block' : 'none';\n",
              "    })();\n",
              "  </script>\n",
              "</div>\n",
              "\n",
              "    </div>\n",
              "  </div>\n"
            ],
            "application/vnd.google.colaboratory.intrinsic+json": {
              "type": "dataframe",
              "variable_name": "df_h",
              "summary": "{\n  \"name\": \"df_h\",\n  \"rows\": 4000,\n  \"fields\": [\n    {\n      \"column\": \"text\",\n      \"properties\": {\n        \"dtype\": \"string\",\n        \"num_unique_values\": 3994,\n        \"samples\": [\n          \"@ohwk @okac @ofhu @oanh @oadf @oshb @osaz @ogls @ofxe Si esa gente supiera que sin papeles ninguno podr\\u00eda entrar, lo mismo se evitar\\u00edan estas cosas\",\n          \"@oxnm @ohbk Wuauuuuuu , mientras j\\u00f3venes migrantes con titulo que no pueden hacer maestr\\u00edas le piden hasta el santo y la limosna.\",\n          \"#MERCADOS | Canarias muestra las oportunidades de negocio en Costa de Marfil\\\\n@oalb\\\\nhttps://t.co/P107JWEboD\"\n        ],\n        \"semantic_type\": \"\",\n        \"description\": \"\"\n      }\n    },\n    {\n      \"column\": \"label\",\n      \"properties\": {\n        \"dtype\": \"number\",\n        \"std\": 0,\n        \"min\": 0,\n        \"max\": 1,\n        \"num_unique_values\": 2,\n        \"samples\": [\n          1,\n          0\n        ],\n        \"semantic_type\": \"\",\n        \"description\": \"\"\n      }\n    },\n    {\n      \"column\": \"variation\",\n      \"properties\": {\n        \"dtype\": \"category\",\n        \"num_unique_values\": 2,\n        \"samples\": [\n          \"europe\",\n          \"latam\"\n        ],\n        \"semantic_type\": \"\",\n        \"description\": \"\"\n      }\n    }\n  ]\n}"
            }
          },
          "metadata": {},
          "execution_count": 4
        }
      ]
    },
    {
      "cell_type": "code",
      "source": [
        "# Renombrar la columna 'variation' a 'region'\n",
        "df_h.rename(columns={'variation': 'region'}, inplace=True)\n",
        "\n",
        "# Crear la columna 'dtst' al final con el valor 'hascosva' para identificar el origen de los datos\n",
        "df_h['dtst'] = 'hascosva'"
      ],
      "metadata": {
        "id": "fTP6wd0ntdE-"
      },
      "execution_count": null,
      "outputs": []
    },
    {
      "cell_type": "code",
      "source": [
        "# Comprobar la distribución de la columna 'label'\n",
        "distribucion_label = df_h['label'].value_counts()\n",
        "print(\"Distribución de 'label':\")\n",
        "print(distribucion_label)\n",
        "\n",
        "# Comprobar la distribución de la columna 'region'\n",
        "distribucion_region = df_h['region'].value_counts()\n",
        "print(\"\\nDistribución de 'region':\")\n",
        "print(distribucion_region)"
      ],
      "metadata": {
        "colab": {
          "base_uri": "https://localhost:8080/"
        },
        "id": "f1Z2pFB5t4Wz",
        "outputId": "414c730c-356d-4ab0-9992-efe22e581021"
      },
      "execution_count": null,
      "outputs": [
        {
          "output_type": "stream",
          "name": "stdout",
          "text": [
            "Distribución de 'label':\n",
            "label\n",
            "0    3446\n",
            "1     554\n",
            "Name: count, dtype: int64\n",
            "\n",
            "Distribución de 'region':\n",
            "region\n",
            "europe    2500\n",
            "latam     1500\n",
            "Name: count, dtype: int64\n"
          ]
        }
      ]
    },
    {
      "cell_type": "code",
      "source": [
        "# Setear el campo 'region'\n",
        "df_h['region'] = df_h['region'].replace({'europe': 1, 'latam': 0}).astype(int)"
      ],
      "metadata": {
        "id": "63CXO_MIRkrI"
      },
      "execution_count": null,
      "outputs": []
    },
    {
      "cell_type": "code",
      "source": [
        "# Convertir la columna 'region' a int, asegurándose de que no haya valores no numéricos\n",
        "df_h['region'] = pd.to_numeric(df_h['region'], errors='coerce').astype('Int64')\n",
        "\n",
        "# Verificar el tipo de datos después de la conversión\n",
        "print(\"Tipos de datos después de la conversión:\")\n",
        "print(df_h.dtypes)"
      ],
      "metadata": {
        "colab": {
          "base_uri": "https://localhost:8080/"
        },
        "id": "KRX9Sktuv7Iw",
        "outputId": "2c030009-b668-41c0-e698-1613dafdecc9"
      },
      "execution_count": null,
      "outputs": [
        {
          "output_type": "stream",
          "name": "stdout",
          "text": [
            "Tipos de datos después de la conversión:\n",
            "text      object\n",
            "label      int64\n",
            "region     Int64\n",
            "dtst      object\n",
            "dtype: object\n"
          ]
        }
      ]
    },
    {
      "cell_type": "code",
      "source": [
        "# Comprobar el tipo de datos de cada columna\n",
        "tipos_de_datos = df_h.dtypes\n",
        "print(\"Tipos de datos por columna:\")\n",
        "print(tipos_de_datos)\n",
        "print(\"\\n\")\n",
        "\n",
        "# Comprobar valores nulos en cada columna\n",
        "valores_nulos = df_h.isnull().sum()\n",
        "print(\"Valores nulos por columna:\")\n",
        "print(valores_nulos)\n",
        "print(\"\\n\")\n",
        "\n",
        "# Comprobar si hay duplicados\n",
        "duplicados = df_h.duplicated().sum()\n",
        "print(f\"Número total de registros duplicados: {duplicados}\")"
      ],
      "metadata": {
        "colab": {
          "base_uri": "https://localhost:8080/"
        },
        "id": "gNNrSOaqtKKU",
        "outputId": "4e53f324-c1e5-45af-eceb-9ac2e8ff11a1"
      },
      "execution_count": null,
      "outputs": [
        {
          "output_type": "stream",
          "name": "stdout",
          "text": [
            "Tipos de datos por columna:\n",
            "text      object\n",
            "label      int64\n",
            "region     Int64\n",
            "dtst      object\n",
            "dtype: object\n",
            "\n",
            "\n",
            "Valores nulos por columna:\n",
            "text      0\n",
            "label     0\n",
            "region    0\n",
            "dtst      0\n",
            "dtype: int64\n",
            "\n",
            "\n",
            "Número total de registros duplicados: 5\n"
          ]
        }
      ]
    },
    {
      "cell_type": "code",
      "source": [
        "# Identificar los registros duplicados\n",
        "duplicados = df_h[df_h.duplicated(keep=False)]  # keep=False muestra todas las filas duplicadas, no solo una\n",
        "\n",
        "# Mostrar los registros duplicados\n",
        "print(f\"Registros duplicados encontrados: {duplicados.shape[0]}\")\n",
        "if duplicados.shape[0] > 0:\n",
        "    print(\"Ejemplos de duplicados:\")\n",
        "    print(duplicados.head(10))  # Mostrar los primeros 10 registros duplicados"
      ],
      "metadata": {
        "colab": {
          "base_uri": "https://localhost:8080/"
        },
        "id": "qJ0SKwr6tojt",
        "outputId": "18341b68-b5ba-4298-8dd6-15ec3cb4be07"
      },
      "execution_count": null,
      "outputs": [
        {
          "output_type": "stream",
          "name": "stdout",
          "text": [
            "Registros duplicados encontrados: 10\n",
            "Ejemplos de duplicados:\n",
            "                                                   text  label  region  \\\n",
            "1036  El mapa de los refugiados de la guerra de Ucra...      0       0   \n",
            "1039  Un inmigrante ghanés mata a un matrimonio en F...      0       0   \n",
            "1321  Un inmigrante ghanés mata a un matrimonio en F...      0       0   \n",
            "1332  El mapa de los refugiados de la guerra de Ucra...      0       0   \n",
            "2204  📌 “No abras los labios si no estás seguro de q...      0       1   \n",
            "2389  📌 “No abras los labios si no estás seguro de q...      0       1   \n",
            "2526  El burkinés, comprometido con los países más m...      0       1   \n",
            "2853  El burkinés, comprometido con los países más m...      0       1   \n",
            "3125  Emigrar no tiene por qué ser complicado, lo im...      0       1   \n",
            "3336  Emigrar no tiene por qué ser complicado, lo im...      0       1   \n",
            "\n",
            "          dtst  \n",
            "1036  hascosva  \n",
            "1039  hascosva  \n",
            "1321  hascosva  \n",
            "1332  hascosva  \n",
            "2204  hascosva  \n",
            "2389  hascosva  \n",
            "2526  hascosva  \n",
            "2853  hascosva  \n",
            "3125  hascosva  \n",
            "3336  hascosva  \n"
          ]
        }
      ]
    },
    {
      "cell_type": "code",
      "source": [
        "# Eliminar duplicados y conservar la primera aparición (comportamiento por defecto)\n",
        "df_h = df_h.drop_duplicates(keep='first')\n",
        "\n",
        "# Mostrar el tamaño del DataFrame después de eliminar duplicados\n",
        "print(f\"Tamaño del DataFrame después de eliminar duplicados: {df_h.shape}\")"
      ],
      "metadata": {
        "colab": {
          "base_uri": "https://localhost:8080/"
        },
        "id": "TK6t5EvUuwn-",
        "outputId": "853e1dc2-7bfc-470f-9376-bba0999da37c"
      },
      "execution_count": null,
      "outputs": [
        {
          "output_type": "stream",
          "name": "stdout",
          "text": [
            "Tamaño del DataFrame después de eliminar duplicados: (3995, 4)\n"
          ]
        }
      ]
    },
    {
      "cell_type": "code",
      "source": [
        "# Explorar nuevamente el tamaño del dataframe\n",
        "tamaño = df_h.shape\n",
        "print(f\"Tamaño del DataFrame HaSCoSVa: {tamaño}\")\n",
        "\n",
        "# Mostrar los nombres de las columnas\n",
        "nombres_columnas = df_h.columns.tolist()\n",
        "print(f\"Nombres de las columnas: {nombres_columnas}\")"
      ],
      "metadata": {
        "colab": {
          "base_uri": "https://localhost:8080/"
        },
        "id": "aj9SwWp-QtMP",
        "outputId": "b4ada26d-57ca-4dd5-b717-020df9a090bb"
      },
      "execution_count": null,
      "outputs": [
        {
          "output_type": "stream",
          "name": "stdout",
          "text": [
            "Tamaño del DataFrame HaSCoSVa: (3995, 4)\n",
            "Nombres de las columnas: ['text', 'label', 'region', 'dtst']\n"
          ]
        }
      ]
    },
    {
      "cell_type": "markdown",
      "source": [
        "###Multilingual Hate Speech"
      ],
      "metadata": {
        "id": "zC7tYpjXsRGk"
      }
    },
    {
      "cell_type": "code",
      "source": [
        "# Cargar el archivo del dataset Multilingual Hate Speech en un dataframe\n",
        "file_path = '/content/gpdata_multilingual_hs.csv'\n",
        "df_m = pd.read_csv(file_path)\n",
        "\n",
        "# Explorar el tamaño del dataframe\n",
        "tamaño = df_m.shape\n",
        "print(f\"Tamaño del DataFrame: {tamaño}\")\n",
        "\n",
        "# Mostrar los nombres de las columnas\n",
        "nombres_columnas = df_m.columns.tolist()\n",
        "print(f\"Nombres de las columnas: {nombres_columnas}\")"
      ],
      "metadata": {
        "colab": {
          "base_uri": "https://localhost:8080/"
        },
        "id": "ayXIRRpdubyz",
        "outputId": "2ff694ca-4cff-46fe-b55f-075a8e5ccc51"
      },
      "execution_count": null,
      "outputs": [
        {
          "output_type": "stream",
          "name": "stdout",
          "text": [
            "Tamaño del DataFrame: (4831, 11)\n",
            "Nombres de las columnas: ['tid', 'uid', 'text', 'date', 'gender', 'age', 'city', 'state', 'country', 'ethnicity', 'label']\n"
          ]
        }
      ]
    },
    {
      "cell_type": "code",
      "source": [
        "# Mirar los primeros datos\n",
        "df_m.head()"
      ],
      "metadata": {
        "colab": {
          "base_uri": "https://localhost:8080/",
          "height": 677
        },
        "id": "GtE_CdmSv5q3",
        "outputId": "2f02a037-6322-48df-f255-144f89780645"
      },
      "execution_count": null,
      "outputs": [
        {
          "output_type": "execute_result",
          "data": {
            "text/plain": [
              "                   tid                  uid  \\\n",
              "0 -1477623926779534320  4570501476493327952   \n",
              "1  6445360669531050465 -1765089166783033600   \n",
              "2   103904265200762323 -6374982371790023876   \n",
              "3  1933176085040579553  4079549413960861897   \n",
              "4 -6183178105032084348  8270967378800538440   \n",
              "\n",
              "                                                text        date gender age  \\\n",
              "0         yo soy tu hija de puta y tú eres mi diablo  2017-12-12      x   x   \n",
              "1  user user user cállate la puta boca ya que tie...  2017-12-12      1   1   \n",
              "2  user user user si quitas el callate la puta bo...  2017-12-12      x   x   \n",
              "3        user tu eres la pinche puta en esta amistad  2017-12-12      1   1   \n",
              "4                                 user cállate zorra  2017-12-12      0   1   \n",
              "\n",
              "           city     state country ethnicity  label  \n",
              "0             x         x       0         x      0  \n",
              "1             x         x       x         0      0  \n",
              "2             x         x       x         x      0  \n",
              "3  Bartlesville  Oklahoma       0         0      0  \n",
              "4             x         x       x         0      1  "
            ],
            "text/html": [
              "\n",
              "  <div id=\"df-9e3053c4-1981-42c3-a945-de0e6b8c5dad\" class=\"colab-df-container\">\n",
              "    <div>\n",
              "<style scoped>\n",
              "    .dataframe tbody tr th:only-of-type {\n",
              "        vertical-align: middle;\n",
              "    }\n",
              "\n",
              "    .dataframe tbody tr th {\n",
              "        vertical-align: top;\n",
              "    }\n",
              "\n",
              "    .dataframe thead th {\n",
              "        text-align: right;\n",
              "    }\n",
              "</style>\n",
              "<table border=\"1\" class=\"dataframe\">\n",
              "  <thead>\n",
              "    <tr style=\"text-align: right;\">\n",
              "      <th></th>\n",
              "      <th>tid</th>\n",
              "      <th>uid</th>\n",
              "      <th>text</th>\n",
              "      <th>date</th>\n",
              "      <th>gender</th>\n",
              "      <th>age</th>\n",
              "      <th>city</th>\n",
              "      <th>state</th>\n",
              "      <th>country</th>\n",
              "      <th>ethnicity</th>\n",
              "      <th>label</th>\n",
              "    </tr>\n",
              "  </thead>\n",
              "  <tbody>\n",
              "    <tr>\n",
              "      <th>0</th>\n",
              "      <td>-1477623926779534320</td>\n",
              "      <td>4570501476493327952</td>\n",
              "      <td>yo soy tu hija de puta y tú eres mi diablo</td>\n",
              "      <td>2017-12-12</td>\n",
              "      <td>x</td>\n",
              "      <td>x</td>\n",
              "      <td>x</td>\n",
              "      <td>x</td>\n",
              "      <td>0</td>\n",
              "      <td>x</td>\n",
              "      <td>0</td>\n",
              "    </tr>\n",
              "    <tr>\n",
              "      <th>1</th>\n",
              "      <td>6445360669531050465</td>\n",
              "      <td>-1765089166783033600</td>\n",
              "      <td>user user user cállate la puta boca ya que tie...</td>\n",
              "      <td>2017-12-12</td>\n",
              "      <td>1</td>\n",
              "      <td>1</td>\n",
              "      <td>x</td>\n",
              "      <td>x</td>\n",
              "      <td>x</td>\n",
              "      <td>0</td>\n",
              "      <td>0</td>\n",
              "    </tr>\n",
              "    <tr>\n",
              "      <th>2</th>\n",
              "      <td>103904265200762323</td>\n",
              "      <td>-6374982371790023876</td>\n",
              "      <td>user user user si quitas el callate la puta bo...</td>\n",
              "      <td>2017-12-12</td>\n",
              "      <td>x</td>\n",
              "      <td>x</td>\n",
              "      <td>x</td>\n",
              "      <td>x</td>\n",
              "      <td>x</td>\n",
              "      <td>x</td>\n",
              "      <td>0</td>\n",
              "    </tr>\n",
              "    <tr>\n",
              "      <th>3</th>\n",
              "      <td>1933176085040579553</td>\n",
              "      <td>4079549413960861897</td>\n",
              "      <td>user tu eres la pinche puta en esta amistad</td>\n",
              "      <td>2017-12-12</td>\n",
              "      <td>1</td>\n",
              "      <td>1</td>\n",
              "      <td>Bartlesville</td>\n",
              "      <td>Oklahoma</td>\n",
              "      <td>0</td>\n",
              "      <td>0</td>\n",
              "      <td>0</td>\n",
              "    </tr>\n",
              "    <tr>\n",
              "      <th>4</th>\n",
              "      <td>-6183178105032084348</td>\n",
              "      <td>8270967378800538440</td>\n",
              "      <td>user cállate zorra</td>\n",
              "      <td>2017-12-12</td>\n",
              "      <td>0</td>\n",
              "      <td>1</td>\n",
              "      <td>x</td>\n",
              "      <td>x</td>\n",
              "      <td>x</td>\n",
              "      <td>0</td>\n",
              "      <td>1</td>\n",
              "    </tr>\n",
              "  </tbody>\n",
              "</table>\n",
              "</div>\n",
              "    <div class=\"colab-df-buttons\">\n",
              "\n",
              "  <div class=\"colab-df-container\">\n",
              "    <button class=\"colab-df-convert\" onclick=\"convertToInteractive('df-9e3053c4-1981-42c3-a945-de0e6b8c5dad')\"\n",
              "            title=\"Convert this dataframe to an interactive table.\"\n",
              "            style=\"display:none;\">\n",
              "\n",
              "  <svg xmlns=\"http://www.w3.org/2000/svg\" height=\"24px\" viewBox=\"0 -960 960 960\">\n",
              "    <path d=\"M120-120v-720h720v720H120Zm60-500h600v-160H180v160Zm220 220h160v-160H400v160Zm0 220h160v-160H400v160ZM180-400h160v-160H180v160Zm440 0h160v-160H620v160ZM180-180h160v-160H180v160Zm440 0h160v-160H620v160Z\"/>\n",
              "  </svg>\n",
              "    </button>\n",
              "\n",
              "  <style>\n",
              "    .colab-df-container {\n",
              "      display:flex;\n",
              "      gap: 12px;\n",
              "    }\n",
              "\n",
              "    .colab-df-convert {\n",
              "      background-color: #E8F0FE;\n",
              "      border: none;\n",
              "      border-radius: 50%;\n",
              "      cursor: pointer;\n",
              "      display: none;\n",
              "      fill: #1967D2;\n",
              "      height: 32px;\n",
              "      padding: 0 0 0 0;\n",
              "      width: 32px;\n",
              "    }\n",
              "\n",
              "    .colab-df-convert:hover {\n",
              "      background-color: #E2EBFA;\n",
              "      box-shadow: 0px 1px 2px rgba(60, 64, 67, 0.3), 0px 1px 3px 1px rgba(60, 64, 67, 0.15);\n",
              "      fill: #174EA6;\n",
              "    }\n",
              "\n",
              "    .colab-df-buttons div {\n",
              "      margin-bottom: 4px;\n",
              "    }\n",
              "\n",
              "    [theme=dark] .colab-df-convert {\n",
              "      background-color: #3B4455;\n",
              "      fill: #D2E3FC;\n",
              "    }\n",
              "\n",
              "    [theme=dark] .colab-df-convert:hover {\n",
              "      background-color: #434B5C;\n",
              "      box-shadow: 0px 1px 3px 1px rgba(0, 0, 0, 0.15);\n",
              "      filter: drop-shadow(0px 1px 2px rgba(0, 0, 0, 0.3));\n",
              "      fill: #FFFFFF;\n",
              "    }\n",
              "  </style>\n",
              "\n",
              "    <script>\n",
              "      const buttonEl =\n",
              "        document.querySelector('#df-9e3053c4-1981-42c3-a945-de0e6b8c5dad button.colab-df-convert');\n",
              "      buttonEl.style.display =\n",
              "        google.colab.kernel.accessAllowed ? 'block' : 'none';\n",
              "\n",
              "      async function convertToInteractive(key) {\n",
              "        const element = document.querySelector('#df-9e3053c4-1981-42c3-a945-de0e6b8c5dad');\n",
              "        const dataTable =\n",
              "          await google.colab.kernel.invokeFunction('convertToInteractive',\n",
              "                                                    [key], {});\n",
              "        if (!dataTable) return;\n",
              "\n",
              "        const docLinkHtml = 'Like what you see? Visit the ' +\n",
              "          '<a target=\"_blank\" href=https://colab.research.google.com/notebooks/data_table.ipynb>data table notebook</a>'\n",
              "          + ' to learn more about interactive tables.';\n",
              "        element.innerHTML = '';\n",
              "        dataTable['output_type'] = 'display_data';\n",
              "        await google.colab.output.renderOutput(dataTable, element);\n",
              "        const docLink = document.createElement('div');\n",
              "        docLink.innerHTML = docLinkHtml;\n",
              "        element.appendChild(docLink);\n",
              "      }\n",
              "    </script>\n",
              "  </div>\n",
              "\n",
              "\n",
              "<div id=\"df-99c19c03-d556-4cdf-8d3a-d214da05ccec\">\n",
              "  <button class=\"colab-df-quickchart\" onclick=\"quickchart('df-99c19c03-d556-4cdf-8d3a-d214da05ccec')\"\n",
              "            title=\"Suggest charts\"\n",
              "            style=\"display:none;\">\n",
              "\n",
              "<svg xmlns=\"http://www.w3.org/2000/svg\" height=\"24px\"viewBox=\"0 0 24 24\"\n",
              "     width=\"24px\">\n",
              "    <g>\n",
              "        <path d=\"M19 3H5c-1.1 0-2 .9-2 2v14c0 1.1.9 2 2 2h14c1.1 0 2-.9 2-2V5c0-1.1-.9-2-2-2zM9 17H7v-7h2v7zm4 0h-2V7h2v10zm4 0h-2v-4h2v4z\"/>\n",
              "    </g>\n",
              "</svg>\n",
              "  </button>\n",
              "\n",
              "<style>\n",
              "  .colab-df-quickchart {\n",
              "      --bg-color: #E8F0FE;\n",
              "      --fill-color: #1967D2;\n",
              "      --hover-bg-color: #E2EBFA;\n",
              "      --hover-fill-color: #174EA6;\n",
              "      --disabled-fill-color: #AAA;\n",
              "      --disabled-bg-color: #DDD;\n",
              "  }\n",
              "\n",
              "  [theme=dark] .colab-df-quickchart {\n",
              "      --bg-color: #3B4455;\n",
              "      --fill-color: #D2E3FC;\n",
              "      --hover-bg-color: #434B5C;\n",
              "      --hover-fill-color: #FFFFFF;\n",
              "      --disabled-bg-color: #3B4455;\n",
              "      --disabled-fill-color: #666;\n",
              "  }\n",
              "\n",
              "  .colab-df-quickchart {\n",
              "    background-color: var(--bg-color);\n",
              "    border: none;\n",
              "    border-radius: 50%;\n",
              "    cursor: pointer;\n",
              "    display: none;\n",
              "    fill: var(--fill-color);\n",
              "    height: 32px;\n",
              "    padding: 0;\n",
              "    width: 32px;\n",
              "  }\n",
              "\n",
              "  .colab-df-quickchart:hover {\n",
              "    background-color: var(--hover-bg-color);\n",
              "    box-shadow: 0 1px 2px rgba(60, 64, 67, 0.3), 0 1px 3px 1px rgba(60, 64, 67, 0.15);\n",
              "    fill: var(--button-hover-fill-color);\n",
              "  }\n",
              "\n",
              "  .colab-df-quickchart-complete:disabled,\n",
              "  .colab-df-quickchart-complete:disabled:hover {\n",
              "    background-color: var(--disabled-bg-color);\n",
              "    fill: var(--disabled-fill-color);\n",
              "    box-shadow: none;\n",
              "  }\n",
              "\n",
              "  .colab-df-spinner {\n",
              "    border: 2px solid var(--fill-color);\n",
              "    border-color: transparent;\n",
              "    border-bottom-color: var(--fill-color);\n",
              "    animation:\n",
              "      spin 1s steps(1) infinite;\n",
              "  }\n",
              "\n",
              "  @keyframes spin {\n",
              "    0% {\n",
              "      border-color: transparent;\n",
              "      border-bottom-color: var(--fill-color);\n",
              "      border-left-color: var(--fill-color);\n",
              "    }\n",
              "    20% {\n",
              "      border-color: transparent;\n",
              "      border-left-color: var(--fill-color);\n",
              "      border-top-color: var(--fill-color);\n",
              "    }\n",
              "    30% {\n",
              "      border-color: transparent;\n",
              "      border-left-color: var(--fill-color);\n",
              "      border-top-color: var(--fill-color);\n",
              "      border-right-color: var(--fill-color);\n",
              "    }\n",
              "    40% {\n",
              "      border-color: transparent;\n",
              "      border-right-color: var(--fill-color);\n",
              "      border-top-color: var(--fill-color);\n",
              "    }\n",
              "    60% {\n",
              "      border-color: transparent;\n",
              "      border-right-color: var(--fill-color);\n",
              "    }\n",
              "    80% {\n",
              "      border-color: transparent;\n",
              "      border-right-color: var(--fill-color);\n",
              "      border-bottom-color: var(--fill-color);\n",
              "    }\n",
              "    90% {\n",
              "      border-color: transparent;\n",
              "      border-bottom-color: var(--fill-color);\n",
              "    }\n",
              "  }\n",
              "</style>\n",
              "\n",
              "  <script>\n",
              "    async function quickchart(key) {\n",
              "      const quickchartButtonEl =\n",
              "        document.querySelector('#' + key + ' button');\n",
              "      quickchartButtonEl.disabled = true;  // To prevent multiple clicks.\n",
              "      quickchartButtonEl.classList.add('colab-df-spinner');\n",
              "      try {\n",
              "        const charts = await google.colab.kernel.invokeFunction(\n",
              "            'suggestCharts', [key], {});\n",
              "      } catch (error) {\n",
              "        console.error('Error during call to suggestCharts:', error);\n",
              "      }\n",
              "      quickchartButtonEl.classList.remove('colab-df-spinner');\n",
              "      quickchartButtonEl.classList.add('colab-df-quickchart-complete');\n",
              "    }\n",
              "    (() => {\n",
              "      let quickchartButtonEl =\n",
              "        document.querySelector('#df-99c19c03-d556-4cdf-8d3a-d214da05ccec button');\n",
              "      quickchartButtonEl.style.display =\n",
              "        google.colab.kernel.accessAllowed ? 'block' : 'none';\n",
              "    })();\n",
              "  </script>\n",
              "</div>\n",
              "\n",
              "    </div>\n",
              "  </div>\n"
            ],
            "application/vnd.google.colaboratory.intrinsic+json": {
              "type": "dataframe",
              "variable_name": "df_m",
              "summary": "{\n  \"name\": \"df_m\",\n  \"rows\": 4831,\n  \"fields\": [\n    {\n      \"column\": \"tid\",\n      \"properties\": {\n        \"dtype\": \"number\",\n        \"std\": 5305342647749102592,\n        \"min\": -9222560132886688191,\n        \"max\": 9218985550435981010,\n        \"num_unique_values\": 4828,\n        \"samples\": [\n          6609770902436916624,\n          2362891357940976294,\n          1605854023244455116\n        ],\n        \"semantic_type\": \"\",\n        \"description\": \"\"\n      }\n    },\n    {\n      \"column\": \"uid\",\n      \"properties\": {\n        \"dtype\": \"number\",\n        \"std\": 5369874156262695936,\n        \"min\": -9219418955766642637,\n        \"max\": 9220105343644098858,\n        \"num_unique_values\": 4512,\n        \"samples\": [\n          1082601189495445864,\n          6368847340614035271,\n          6509058173490613998\n        ],\n        \"semantic_type\": \"\",\n        \"description\": \"\"\n      }\n    },\n    {\n      \"column\": \"text\",\n      \"properties\": {\n        \"dtype\": \"string\",\n        \"num_unique_values\": 4791,\n        \"samples\": [\n          \"juan fern\\u00e1ndez : ' las concertinas deben ser retiradas porque no son la soluci\\u00f3n a la migraci\\u00f3n . no cumplen su cometi \\u2026 url\",\n          \"user comemela tu a mi mamon xdddd\",\n          \"user user user llamar ' puta ' a una mujer es algo m\\u00e1s que desafortunado pero all\\u00e1 vosotros ...\"\n        ],\n        \"semantic_type\": \"\",\n        \"description\": \"\"\n      }\n    },\n    {\n      \"column\": \"date\",\n      \"properties\": {\n        \"dtype\": \"object\",\n        \"num_unique_values\": 96,\n        \"samples\": [\n          \"2016-8-30\",\n          \"2016-2-2\",\n          \"2015-10-14\"\n        ],\n        \"semantic_type\": \"\",\n        \"description\": \"\"\n      }\n    },\n    {\n      \"column\": \"gender\",\n      \"properties\": {\n        \"dtype\": \"category\",\n        \"num_unique_values\": 3,\n        \"samples\": [\n          \"x\",\n          \"1\",\n          \"0\"\n        ],\n        \"semantic_type\": \"\",\n        \"description\": \"\"\n      }\n    },\n    {\n      \"column\": \"age\",\n      \"properties\": {\n        \"dtype\": \"category\",\n        \"num_unique_values\": 3,\n        \"samples\": [\n          \"x\",\n          \"1\",\n          \"0\"\n        ],\n        \"semantic_type\": \"\",\n        \"description\": \"\"\n      }\n    },\n    {\n      \"column\": \"city\",\n      \"properties\": {\n        \"dtype\": \"category\",\n        \"num_unique_values\": 780,\n        \"samples\": [\n          \"Algemes\\u00ed\",\n          \"Trigueros\",\n          \"Haifa\"\n        ],\n        \"semantic_type\": \"\",\n        \"description\": \"\"\n      }\n    },\n    {\n      \"column\": \"state\",\n      \"properties\": {\n        \"dtype\": \"category\",\n        \"num_unique_values\": 329,\n        \"samples\": [\n          \"Entre Rios\",\n          \"San Salvador Department\",\n          \"San Juan Province\"\n        ],\n        \"semantic_type\": \"\",\n        \"description\": \"\"\n      }\n    },\n    {\n      \"column\": \"country\",\n      \"properties\": {\n        \"dtype\": \"category\",\n        \"num_unique_values\": 3,\n        \"samples\": [\n          \"0\",\n          \"x\",\n          \"1\"\n        ],\n        \"semantic_type\": \"\",\n        \"description\": \"\"\n      }\n    },\n    {\n      \"column\": \"ethnicity\",\n      \"properties\": {\n        \"dtype\": \"category\",\n        \"num_unique_values\": 3,\n        \"samples\": [\n          \"x\",\n          \"0\",\n          \"1\"\n        ],\n        \"semantic_type\": \"\",\n        \"description\": \"\"\n      }\n    },\n    {\n      \"column\": \"label\",\n      \"properties\": {\n        \"dtype\": \"number\",\n        \"std\": 0,\n        \"min\": 0,\n        \"max\": 1,\n        \"num_unique_values\": 2,\n        \"samples\": [\n          1,\n          0\n        ],\n        \"semantic_type\": \"\",\n        \"description\": \"\"\n      }\n    }\n  ]\n}"
            }
          },
          "metadata": {},
          "execution_count": 14
        }
      ]
    },
    {
      "cell_type": "code",
      "source": [
        "# Crear la columna 'dtst' al final con el valor 'multilingual' para identificar el origen de los datos\n",
        "df_m['dtst'] = 'multilingual'"
      ],
      "metadata": {
        "id": "8UehwE6eusKC"
      },
      "execution_count": null,
      "outputs": []
    },
    {
      "cell_type": "code",
      "source": [
        "# Eliminar las columnas que no vamos a usar del dataframe df_m\n",
        "df_m.drop(columns=['uid', 'tid', 'date', 'gender', 'age', 'ethnicity'], inplace=True)\n",
        "\n",
        "# Mostrar las primeras filas del dataframe actualizado para verificar los cambios\n",
        "print(df_m.shape)"
      ],
      "metadata": {
        "colab": {
          "base_uri": "https://localhost:8080/"
        },
        "id": "NTpleK7QwY73",
        "outputId": "7d7e4bd1-4958-4b97-b170-17299174c10a"
      },
      "execution_count": null,
      "outputs": [
        {
          "output_type": "stream",
          "name": "stdout",
          "text": [
            "(4831, 6)\n"
          ]
        }
      ]
    },
    {
      "cell_type": "code",
      "source": [
        "# Obtener los valores únicos de las columnas 'city', 'state' y 'country'\n",
        "valores_city = df_m['city'].unique()\n",
        "valores_state = df_m['state'].unique()\n",
        "valores_country = df_m['country'].unique()\n",
        "\n",
        "# Mostrar los primeros 10 resultados de df_m y df_h, junto con su tipo\n",
        "valores_city_head = valores_city[:10]\n",
        "valores_state_head = valores_state[:10]\n",
        "valores_country_head = valores_country[:10]\n",
        "\n",
        "valores_city_head, valores_state_head, valores_country_head, type(valores_city), type(valores_state), type(valores_country)"
      ],
      "metadata": {
        "colab": {
          "base_uri": "https://localhost:8080/"
        },
        "id": "t9yZ0LeAwZd3",
        "outputId": "1a54fa11-4ce2-4afb-8c58-affcdfae0922"
      },
      "execution_count": null,
      "outputs": [
        {
          "output_type": "execute_result",
          "data": {
            "text/plain": [
              "(array(['x', 'Bartlesville', 'San Luis', 'Ituzaingó', 'Guatemala City',\n",
              "        'Avellaneda', 'Buenos Aires', 'Puebla', 'Leavenworth', 'Bragado'],\n",
              "       dtype=object),\n",
              " array(['x', 'Oklahoma', 'Arizona', 'Buenos Aires Province',\n",
              "        'Guatemala Department', 'Carolina', ' Argentina', 'Trujillo Alto',\n",
              "        'Buenos Aires', 'Entre Rios'], dtype=object),\n",
              " array(['0', 'x', '1'], dtype=object),\n",
              " numpy.ndarray,\n",
              " numpy.ndarray,\n",
              " numpy.ndarray)"
            ]
          },
          "metadata": {},
          "execution_count": 17
        }
      ]
    },
    {
      "cell_type": "code",
      "source": [
        "# Obtener una lista de estados para cada país\n",
        "lista_states_por_country = df_m.groupby('country')['state'].apply(lambda x: x.unique().tolist()).reset_index()\n",
        "\n",
        "# Renombrar las columnas para mayor claridad\n",
        "lista_states_por_country.columns = ['country', 'states']\n",
        "\n",
        "# Mostrar el resultado\n",
        "print(lista_states_por_country)"
      ],
      "metadata": {
        "colab": {
          "base_uri": "https://localhost:8080/"
        },
        "id": "3EKGQP-Yx1VT",
        "outputId": "2c4043cc-9c2b-4b59-d73a-8d22070d6348"
      },
      "execution_count": null,
      "outputs": [
        {
          "output_type": "stream",
          "name": "stdout",
          "text": [
            "  country                                             states\n",
            "0       0  [x, Oklahoma, Arizona, Buenos Aires Province, ...\n",
            "1       1  [Catalonia, Castile and León, Castile-La Manch...\n",
            "2       x                                                [x]\n"
          ]
        }
      ]
    },
    {
      "cell_type": "code",
      "source": [
        "# Renombrar la columna 'country' a 'region'\n",
        "df_m.rename(columns={'country': 'region'}, inplace=True)"
      ],
      "metadata": {
        "id": "JmnA0m9NS2t2"
      },
      "execution_count": null,
      "outputs": []
    },
    {
      "cell_type": "code",
      "source": [
        "# En df_m, eliminar los registros con valor 'x' en 'region'\n",
        "df_m = df_m[df_m['region'] != 'x']"
      ],
      "metadata": {
        "id": "WENkb5bVRMNZ"
      },
      "execution_count": null,
      "outputs": []
    },
    {
      "cell_type": "code",
      "source": [
        "# Explorar los valores únicos del campo 'region' en df_m\n",
        "valores_region_df_m = df_m['region'].unique()\n",
        "print(\"Valores únicos de 'region' en df_m:\")\n",
        "print(valores_region_df_m)"
      ],
      "metadata": {
        "colab": {
          "base_uri": "https://localhost:8080/"
        },
        "id": "gi0oNNTgRDWX",
        "outputId": "5f94d822-be87-4e3c-b3f9-759b175baa08"
      },
      "execution_count": null,
      "outputs": [
        {
          "output_type": "stream",
          "name": "stdout",
          "text": [
            "Valores únicos de 'region' en df_m:\n",
            "['0' '1']\n"
          ]
        }
      ]
    },
    {
      "cell_type": "code",
      "source": [
        "# Convertir la columna 'region' a int, asegurándose de que no haya valores no numéricos\n",
        "df_m['region'] = pd.to_numeric(df_m['region'], errors='coerce').astype('Int64')\n",
        "\n",
        "# Verificar el tipo de datos después de la conversión\n",
        "print(\"Tipos de datos después de la conversión:\")\n",
        "print(df_m.dtypes)"
      ],
      "metadata": {
        "colab": {
          "base_uri": "https://localhost:8080/"
        },
        "id": "sxZbvJ-UxfbR",
        "outputId": "b43b86f2-ba1d-4668-cf35-1f23d922474d"
      },
      "execution_count": null,
      "outputs": [
        {
          "output_type": "stream",
          "name": "stdout",
          "text": [
            "Tipos de datos después de la conversión:\n",
            "text      object\n",
            "city      object\n",
            "state     object\n",
            "region     Int64\n",
            "label      int64\n",
            "dtst      object\n",
            "dtype: object\n"
          ]
        }
      ]
    },
    {
      "cell_type": "code",
      "source": [
        "# Comprobar la distribución de la columna 'label'\n",
        "distribucion_label = df_m['label'].value_counts()\n",
        "print(\"Distribución de 'label':\")\n",
        "print(distribucion_label)\n",
        "\n",
        "# Comprobar la distribución de la columna 'region'\n",
        "distribucion_region = df_m['region'].value_counts()\n",
        "print(\"\\nDistribución de 'region':\")\n",
        "print(distribucion_region)"
      ],
      "metadata": {
        "colab": {
          "base_uri": "https://localhost:8080/"
        },
        "id": "ZPDtlCfOP5gi",
        "outputId": "e4aca5c1-9551-4727-fd1b-5f13c729a7af"
      },
      "execution_count": null,
      "outputs": [
        {
          "output_type": "stream",
          "name": "stdout",
          "text": [
            "Distribución de 'label':\n",
            "label\n",
            "0    1774\n",
            "1    1057\n",
            "Name: count, dtype: int64\n",
            "\n",
            "Distribución de 'region':\n",
            "region\n",
            "0    1847\n",
            "1     984\n",
            "Name: count, dtype: Int64\n"
          ]
        }
      ]
    },
    {
      "cell_type": "code",
      "source": [
        "# Asegurarse de estar trabajando con una copia del DataFrame\n",
        "df_m = df_m.copy()\n",
        "\n",
        "# Eliminar las columnas 'city' y 'state' de forma segura\n",
        "df_m.drop(columns=['city', 'state'], inplace=True)\n",
        "\n",
        "# Mostrar las primeras filas del DataFrame actualizado para verificar los cambios\n",
        "print(df_m.shape)\n",
        "print(df_m.columns.tolist())"
      ],
      "metadata": {
        "colab": {
          "base_uri": "https://localhost:8080/"
        },
        "id": "8bXp61UGUIZe",
        "outputId": "87c701b1-1c30-488c-8dea-9b241512da6e"
      },
      "execution_count": null,
      "outputs": [
        {
          "output_type": "stream",
          "name": "stdout",
          "text": [
            "(2831, 4)\n",
            "['text', 'region', 'label', 'dtst']\n"
          ]
        }
      ]
    },
    {
      "cell_type": "code",
      "source": [
        "# Comprobar el tipo de datos de cada columna\n",
        "tipos_de_datos = df_m.dtypes\n",
        "print(\"Tipos de datos por columna:\")\n",
        "print(tipos_de_datos)\n",
        "print(\"\\n\")\n",
        "\n",
        "# Comprobar valores nulos en cada columna\n",
        "valores_nulos = df_m.isnull().sum()\n",
        "print(\"Valores nulos por columna:\")\n",
        "print(valores_nulos)\n",
        "print(\"\\n\")\n",
        "\n",
        "# Comprobar si hay duplicados\n",
        "duplicados = df_m.duplicated().sum()\n",
        "print(f\"Número total de registros duplicados: {duplicados}\")"
      ],
      "metadata": {
        "colab": {
          "base_uri": "https://localhost:8080/"
        },
        "id": "KFv-FcxcxEqX",
        "outputId": "1579be04-d64a-4eb5-f9fe-b3784461a554"
      },
      "execution_count": null,
      "outputs": [
        {
          "output_type": "stream",
          "name": "stdout",
          "text": [
            "Tipos de datos por columna:\n",
            "text      object\n",
            "region     Int64\n",
            "label      int64\n",
            "dtst      object\n",
            "dtype: object\n",
            "\n",
            "\n",
            "Valores nulos por columna:\n",
            "text      0\n",
            "region    0\n",
            "label     0\n",
            "dtst      0\n",
            "dtype: int64\n",
            "\n",
            "\n",
            "Número total de registros duplicados: 13\n"
          ]
        }
      ]
    },
    {
      "cell_type": "code",
      "source": [
        "# Identificar los registros duplicados\n",
        "duplicados = df_m[df_m.duplicated(keep=False)]  # keep=False muestra todas las filas duplicadas, no solo una\n",
        "\n",
        "# Mostrar los registros duplicados\n",
        "print(f\"Registros duplicados encontrados: {duplicados.shape[0]}\")\n",
        "if duplicados.shape[0] > 0:\n",
        "    print(\"Ejemplos de duplicados:\")\n",
        "    print(duplicados.head(10))  # Mostrar los primeros 10 registros duplicados"
      ],
      "metadata": {
        "colab": {
          "base_uri": "https://localhost:8080/"
        },
        "outputId": "8bc6111a-8174-47e1-ab94-ee943e4e4316",
        "id": "oMZKdMgIyGp8"
      },
      "execution_count": null,
      "outputs": [
        {
          "output_type": "stream",
          "name": "stdout",
          "text": [
            "Registros duplicados encontrados: 22\n",
            "Ejemplos de duplicados:\n",
            "                                                  text  region  label  \\\n",
            "132  . user estás muy callada hoy ? es verdad , no ...       1      0   \n",
            "174                                 user cállate perra       0      1   \n",
            "200                                  user cállate puta       0      1   \n",
            "239                             user user callate puta       0      1   \n",
            "241                                  user cállate puta       0      1   \n",
            "244                                  user cállate puta       1      1   \n",
            "247                                 user cállate zorra       0      1   \n",
            "259                                  user callate puta       0      1   \n",
            "262                                  user callate puta       0      1   \n",
            "267                                  user callate puta       0      1   \n",
            "\n",
            "             dtst  \n",
            "132  multilingual  \n",
            "174  multilingual  \n",
            "200  multilingual  \n",
            "239  multilingual  \n",
            "241  multilingual  \n",
            "244  multilingual  \n",
            "247  multilingual  \n",
            "259  multilingual  \n",
            "262  multilingual  \n",
            "267  multilingual  \n"
          ]
        }
      ]
    },
    {
      "cell_type": "code",
      "source": [
        "# Eliminar duplicados y conservar la primera aparición (comportamiento por defecto)\n",
        "df_m = df_m.drop_duplicates(keep='first')\n",
        "\n",
        "# Mostrar el tamaño del DataFrame después de eliminar duplicados\n",
        "print(f\"Tamaño del DataFrame después de eliminar duplicados: {df_m.shape}\")"
      ],
      "metadata": {
        "colab": {
          "base_uri": "https://localhost:8080/"
        },
        "outputId": "d3d60bfd-d29d-4d5c-ad6d-15c2bcd836c9",
        "id": "WX8UWswcyGp9"
      },
      "execution_count": null,
      "outputs": [
        {
          "output_type": "stream",
          "name": "stdout",
          "text": [
            "Tamaño del DataFrame después de eliminar duplicados: (2818, 4)\n"
          ]
        }
      ]
    },
    {
      "cell_type": "code",
      "source": [
        "# Explorar nuevamente el tamaño del dataframe\n",
        "tamaño = df_m.shape\n",
        "print(f\"Tamaño del DataFrame Multilingual HS: {tamaño}\")\n",
        "\n",
        "# Mostrar los nombres de las columnas\n",
        "nombres_columnas = df_m.columns.tolist()\n",
        "print(f\"Nombres de las columnas: {nombres_columnas}\")"
      ],
      "metadata": {
        "colab": {
          "base_uri": "https://localhost:8080/"
        },
        "id": "a0UCpk88RoIW",
        "outputId": "da346e90-9d88-4fbe-e741-ca3a6bed9d08"
      },
      "execution_count": null,
      "outputs": [
        {
          "output_type": "stream",
          "name": "stdout",
          "text": [
            "Tamaño del DataFrame Multilingual HS: (2818, 4)\n",
            "Nombres de las columnas: ['text', 'region', 'label', 'dtst']\n"
          ]
        }
      ]
    },
    {
      "cell_type": "markdown",
      "source": [
        "###MEX_A3T"
      ],
      "metadata": {
        "id": "3RpQHzEhveJi"
      }
    },
    {
      "cell_type": "code",
      "source": [
        "# Cargar el archivo UNIFICADO del dataset MEX_A3T en un dataframe\n",
        "file_path = '/content/gpdata_mex_a3t.csv'\n",
        "df_mex_unif = pd.read_csv(file_path)\n",
        "\n",
        "# Explorar el tamaño del dataframe\n",
        "tamaño = df_mex_unif.shape\n",
        "print(f\"Tamaño del DataFrame: {tamaño}\")\n",
        "\n",
        "# Mostrar los nombres de las columnas\n",
        "nombres_columnas = df_mex_unif.columns.tolist()\n",
        "print(f\"Nombres de las columnas: {nombres_columnas}\")"
      ],
      "metadata": {
        "colab": {
          "base_uri": "https://localhost:8080/"
        },
        "id": "xWJqR0Yd9mF6",
        "outputId": "93357d36-b889-4662-870b-de17b5ba107d"
      },
      "execution_count": null,
      "outputs": [
        {
          "output_type": "stream",
          "name": "stdout",
          "text": [
            "Tamaño del DataFrame: (6160, 2)\n",
            "Nombres de las columnas: ['text', 'label']\n"
          ]
        }
      ]
    },
    {
      "cell_type": "code",
      "source": [
        "# Mostrar los primeros registros\n",
        "print(df_mex_unif.head())"
      ],
      "metadata": {
        "colab": {
          "base_uri": "https://localhost:8080/"
        },
        "id": "RjS4AX-U9z6z",
        "outputId": "32cb839b-6cb9-4e66-abbb-d2735075abd7"
      },
      "execution_count": null,
      "outputs": [
        {
          "output_type": "stream",
          "name": "stdout",
          "text": [
            "                                                text  label\n",
            "0  lo peor de todo es que no me dan por un tiempo...      0\n",
            "1  a la vga no seas mamón 45 putos minutos despué...      0\n",
            "2  considero que lo más conveniente seria que lo ...      0\n",
            "3  el marica de mi ex me tiene bloqueada de todo ...      1\n",
            "4  mujer despechadaya pinche amlo hazle esta que ...      0\n"
          ]
        }
      ]
    },
    {
      "cell_type": "code",
      "source": [
        "# Crear la columna 'region' al final con el valor '0' para identificar latam\n",
        "df_mex_unif['region'] = 0"
      ],
      "metadata": {
        "id": "_bGNOv_dFFah"
      },
      "execution_count": null,
      "outputs": []
    },
    {
      "cell_type": "code",
      "source": [
        "# Crear la columna 'dtst' al final con el valor 'mex_a3t' para identificar el origen de los datos\n",
        "df_mex_unif['dtst'] = 'mex_a3t'"
      ],
      "metadata": {
        "id": "miBBuW5j968K"
      },
      "execution_count": null,
      "outputs": []
    },
    {
      "cell_type": "code",
      "source": [
        "# Comprobar la distribución de la columna 'label'\n",
        "distribucion_label = df_mex_unif['label'].value_counts()\n",
        "print(\"Distribución de 'label':\")\n",
        "print(distribucion_label)\n",
        "\n",
        "# Comprobar la distribución de la columna 'region'\n",
        "distribucion_region = df_mex_unif['region'].value_counts()\n",
        "print(\"\\nDistribución de 'region':\")\n",
        "print(distribucion_region)"
      ],
      "metadata": {
        "colab": {
          "base_uri": "https://localhost:8080/"
        },
        "id": "XFZbDWxyMhVu",
        "outputId": "251734da-1252-47f4-cd7a-22665001a20e"
      },
      "execution_count": null,
      "outputs": [
        {
          "output_type": "stream",
          "name": "stdout",
          "text": [
            "Distribución de 'label':\n",
            "label\n",
            "0    3960\n",
            "1    2200\n",
            "Name: count, dtype: int64\n",
            "\n",
            "Distribución de 'region':\n",
            "region\n",
            "0    6160\n",
            "Name: count, dtype: int64\n"
          ]
        }
      ]
    },
    {
      "cell_type": "code",
      "source": [
        "# Comprobar el tipo de datos de cada columna\n",
        "tipos_de_datos = df_mex_unif.dtypes\n",
        "print(\"Tipos de datos por columna:\")\n",
        "print(tipos_de_datos)\n",
        "print(\"\\n\")\n",
        "\n",
        "# Comprobar valores nulos en cada columna\n",
        "valores_nulos = df_mex_unif.isnull().sum()\n",
        "print(\"Valores nulos por columna:\")\n",
        "print(valores_nulos)\n",
        "print(\"\\n\")\n",
        "\n",
        "# Comprobar si hay duplicados\n",
        "duplicados = df_mex_unif.duplicated().sum()\n",
        "print(f\"Número total de registros duplicados: {duplicados}\")"
      ],
      "metadata": {
        "colab": {
          "base_uri": "https://localhost:8080/"
        },
        "outputId": "652b9dc7-c8a9-4f6a-81bb-9a928a1e1622",
        "id": "mAgnVnNFy37G"
      },
      "execution_count": null,
      "outputs": [
        {
          "output_type": "stream",
          "name": "stdout",
          "text": [
            "Tipos de datos por columna:\n",
            "text      object\n",
            "label      int64\n",
            "region     int64\n",
            "dtst      object\n",
            "dtype: object\n",
            "\n",
            "\n",
            "Valores nulos por columna:\n",
            "text      0\n",
            "label     0\n",
            "region    0\n",
            "dtst      0\n",
            "dtype: int64\n",
            "\n",
            "\n",
            "Número total de registros duplicados: 0\n"
          ]
        }
      ]
    },
    {
      "cell_type": "code",
      "source": [
        "# Mostrar los nombres de las columnas otra vez\n",
        "nombres_columnas = df_mex_unif.columns.tolist()\n",
        "print(f\"Revisar columnas: {nombres_columnas}\")"
      ],
      "metadata": {
        "colab": {
          "base_uri": "https://localhost:8080/"
        },
        "id": "fGTTOVuOGZ_L",
        "outputId": "300bc51b-31ba-4c39-8818-e894064a5381"
      },
      "execution_count": null,
      "outputs": [
        {
          "output_type": "stream",
          "name": "stdout",
          "text": [
            "Revisar columnas: ['text', 'label', 'region', 'dtst']\n"
          ]
        }
      ]
    },
    {
      "cell_type": "markdown",
      "source": [
        "### Chileno"
      ],
      "metadata": {
        "id": "33aVIT_ivl0P"
      }
    },
    {
      "cell_type": "code",
      "source": [
        "# Cargar el archivo del dataset chileno en un dataframe\n",
        "file_path = '/content/gpdata_chileno.csv'\n",
        "df_chileno = pd.read_csv(file_path)\n",
        "\n",
        "# Explorar el tamaño del dataframe\n",
        "tamaño = df_chileno.shape\n",
        "print(f\"Tamaño del DataFrame: {tamaño}\")\n",
        "\n",
        "# Mostrar los nombres de las columnas\n",
        "nombres_columnas = df_chileno.columns.tolist()\n",
        "print(f\"Nombres de las columnas: {nombres_columnas}\")"
      ],
      "metadata": {
        "id": "VP7s8VHXvnmq",
        "colab": {
          "base_uri": "https://localhost:8080/"
        },
        "outputId": "b6d7667f-3e20-452a-93fe-d4abdd180027"
      },
      "execution_count": null,
      "outputs": [
        {
          "output_type": "stream",
          "name": "stdout",
          "text": [
            "Tamaño del DataFrame: (20964, 21)\n",
            "Nombres de las columnas: ['Unnamed: 0', 'caso', 'link', 'tweet a etiquetar', 'contexto', 'anónimo', 'género', 'mención migración', 'mención venezuela', 'mención política nacional', 'mención grupos marginalizados', 'mención otros', 'grosería c/int.', 'grosería s/int.', 'insulto/sobrenombre', 'hate speech/estereotipo', 'sarcasmo/ironía/burla', 'pregunta legítima', 'evidencia', 'figura femenina', 'figura masculina']\n"
          ]
        }
      ]
    },
    {
      "cell_type": "code",
      "source": [
        "# Mostrar los primeros registros\n",
        "print(df_chileno.head())"
      ],
      "metadata": {
        "colab": {
          "base_uri": "https://localhost:8080/"
        },
        "id": "FVMD2Lbz6lR1",
        "outputId": "128a0e99-2621-416d-8646-ad54aedf697b"
      },
      "execution_count": null,
      "outputs": [
        {
          "output_type": "stream",
          "name": "stdout",
          "text": [
            "   Unnamed: 0     caso                                               link  \\\n",
            "0           0  23036.0  https://twitter.com/labrigidagon/status/140128...   \n",
            "1           1  23057.0  https://twitter.com/karenseguelr/status/140270...   \n",
            "2           2      NaN                                                NaN   \n",
            "3           3      NaN                                                NaN   \n",
            "4           4  23058.0  https://twitter.com/patrianueva2020/status/140...   \n",
            "\n",
            "                                   tweet a etiquetar  \\\n",
            "0  Eran tan pero tan feministas que invisibilizab...   \n",
            "1  @Eneatipo7 @Cooperativa @karina_ol Me carga en...   \n",
            "2                                                NaN   \n",
            "3                                                NaN   \n",
            "4  , ¿Sabrán las femiorcas como @karina_ol y todo...   \n",
            "\n",
            "                                            contexto  anónimo  género  \\\n",
            "0                                                NaN      1.0     2.0   \n",
            "1                                                NaN      1.0     2.0   \n",
            "2  @Cooperativa @karina_ol te equivocas.\\nApoyamo...      NaN     NaN   \n",
            "3  Karina Oliva: Quienes apoyan a Orrego defiende...      NaN     NaN   \n",
            "4                                                NaN      1.0     3.0   \n",
            "\n",
            "   mención migración  mención venezuela  mención política nacional  ...  \\\n",
            "0                0.0                0.0                        0.0  ...   \n",
            "1                0.0                0.0                        1.0  ...   \n",
            "2                NaN                NaN                        NaN  ...   \n",
            "3                NaN                NaN                        NaN  ...   \n",
            "4                0.0                0.0                        1.0  ...   \n",
            "\n",
            "   mención otros  grosería c/int.  grosería s/int.  insulto/sobrenombre  \\\n",
            "0            0.0              0.0              0.0                  0.0   \n",
            "1            0.0              0.0              0.0                  1.0   \n",
            "2            NaN              NaN              NaN                  NaN   \n",
            "3            NaN              NaN              NaN                  NaN   \n",
            "4            0.0              0.0              0.0                  1.0   \n",
            "\n",
            "   hate speech/estereotipo  sarcasmo/ironía/burla  pregunta legítima  \\\n",
            "0                      0.0                    1.0                0.0   \n",
            "1                      0.0                    0.0                0.0   \n",
            "2                      NaN                    NaN                NaN   \n",
            "3                      NaN                    NaN                NaN   \n",
            "4                      1.0                    0.0                0.0   \n",
            "\n",
            "   evidencia  figura femenina  figura masculina  \n",
            "0        0.0              0.0               0.0  \n",
            "1        0.0              0.0               0.0  \n",
            "2        NaN              NaN               NaN  \n",
            "3        NaN              NaN               NaN  \n",
            "4        0.0              1.0               0.0  \n",
            "\n",
            "[5 rows x 21 columns]\n"
          ]
        }
      ]
    },
    {
      "cell_type": "code",
      "source": [
        "# Renombrar la columna text\n",
        "df_chileno.rename(columns={'tweet a etiquetar': 'text'}, inplace=True)"
      ],
      "metadata": {
        "id": "vX4ifJnBF-qJ"
      },
      "execution_count": null,
      "outputs": []
    },
    {
      "cell_type": "code",
      "source": [
        "# Crear la columna 'region' al final con el valor '0' para identificar latam\n",
        "df_chileno['region'] = 0"
      ],
      "metadata": {
        "id": "sr7VpvGRF3ZQ"
      },
      "execution_count": null,
      "outputs": []
    },
    {
      "cell_type": "code",
      "source": [
        "# Crear la columna 'dtst' al final con el valor 'chileno' para identificar el origen de los datos\n",
        "df_chileno['dtst'] = 'chileno'"
      ],
      "metadata": {
        "id": "TRsAgXgoFx7S"
      },
      "execution_count": null,
      "outputs": []
    },
    {
      "cell_type": "code",
      "source": [
        "#setear valores\n",
        "df_chileno['label'] = np.where(\n",
        "    (df_chileno['grosería c/int.'] == 1.0) |\n",
        "    (df_chileno['insulto/sobrenombre'] == 1.0) |\n",
        "    (df_chileno['hate speech/estereotipo'] == 1.0),\n",
        "    1,  # Valor si alguna de las condiciones es verdadera\n",
        "    0   # Valor si todas las condiciones son falsas\n",
        ")"
      ],
      "metadata": {
        "id": "s31ITBjYLUqt"
      },
      "execution_count": null,
      "outputs": []
    },
    {
      "cell_type": "code",
      "source": [
        "#verificar forma y valores\n",
        "df_chileno.shape"
      ],
      "metadata": {
        "colab": {
          "base_uri": "https://localhost:8080/"
        },
        "id": "8c2egEzRLkHL",
        "outputId": "e61b00d9-99e6-412b-933e-149cffbc8a2a"
      },
      "execution_count": null,
      "outputs": [
        {
          "output_type": "execute_result",
          "data": {
            "text/plain": [
              "(20964, 24)"
            ]
          },
          "metadata": {},
          "execution_count": 42
        }
      ]
    },
    {
      "cell_type": "code",
      "source": [
        "print(df_chileno.head())"
      ],
      "metadata": {
        "colab": {
          "base_uri": "https://localhost:8080/"
        },
        "id": "FGWvsi_SMANe",
        "outputId": "33bd20cf-4e08-487d-f9c2-a24586f41ce7"
      },
      "execution_count": null,
      "outputs": [
        {
          "output_type": "stream",
          "name": "stdout",
          "text": [
            "   Unnamed: 0     caso                                               link  \\\n",
            "0           0  23036.0  https://twitter.com/labrigidagon/status/140128...   \n",
            "1           1  23057.0  https://twitter.com/karenseguelr/status/140270...   \n",
            "2           2      NaN                                                NaN   \n",
            "3           3      NaN                                                NaN   \n",
            "4           4  23058.0  https://twitter.com/patrianueva2020/status/140...   \n",
            "\n",
            "                                                text  \\\n",
            "0  Eran tan pero tan feministas que invisibilizab...   \n",
            "1  @Eneatipo7 @Cooperativa @karina_ol Me carga en...   \n",
            "2                                                NaN   \n",
            "3                                                NaN   \n",
            "4  , ¿Sabrán las femiorcas como @karina_ol y todo...   \n",
            "\n",
            "                                            contexto  anónimo  género  \\\n",
            "0                                                NaN      1.0     2.0   \n",
            "1                                                NaN      1.0     2.0   \n",
            "2  @Cooperativa @karina_ol te equivocas.\\nApoyamo...      NaN     NaN   \n",
            "3  Karina Oliva: Quienes apoyan a Orrego defiende...      NaN     NaN   \n",
            "4                                                NaN      1.0     3.0   \n",
            "\n",
            "   mención migración  mención venezuela  mención política nacional  ...  \\\n",
            "0                0.0                0.0                        0.0  ...   \n",
            "1                0.0                0.0                        1.0  ...   \n",
            "2                NaN                NaN                        NaN  ...   \n",
            "3                NaN                NaN                        NaN  ...   \n",
            "4                0.0                0.0                        1.0  ...   \n",
            "\n",
            "   insulto/sobrenombre  hate speech/estereotipo  sarcasmo/ironía/burla  \\\n",
            "0                  0.0                      0.0                    1.0   \n",
            "1                  1.0                      0.0                    0.0   \n",
            "2                  NaN                      NaN                    NaN   \n",
            "3                  NaN                      NaN                    NaN   \n",
            "4                  1.0                      1.0                    0.0   \n",
            "\n",
            "   pregunta legítima  evidencia  figura femenina  figura masculina  region  \\\n",
            "0                0.0        0.0              0.0               0.0       0   \n",
            "1                0.0        0.0              0.0               0.0       0   \n",
            "2                NaN        NaN              NaN               NaN       0   \n",
            "3                NaN        NaN              NaN               NaN       0   \n",
            "4                0.0        0.0              1.0               0.0       0   \n",
            "\n",
            "      dtst  label  \n",
            "0  chileno      0  \n",
            "1  chileno      1  \n",
            "2  chileno      0  \n",
            "3  chileno      0  \n",
            "4  chileno      1  \n",
            "\n",
            "[5 rows x 24 columns]\n"
          ]
        }
      ]
    },
    {
      "cell_type": "code",
      "source": [
        "df_chileno.info()"
      ],
      "metadata": {
        "colab": {
          "base_uri": "https://localhost:8080/"
        },
        "id": "LKT0LaGTMEug",
        "outputId": "10691827-856c-480d-b121-f3862872ab43"
      },
      "execution_count": null,
      "outputs": [
        {
          "output_type": "stream",
          "name": "stdout",
          "text": [
            "<class 'pandas.core.frame.DataFrame'>\n",
            "RangeIndex: 20964 entries, 0 to 20963\n",
            "Data columns (total 24 columns):\n",
            " #   Column                         Non-Null Count  Dtype  \n",
            "---  ------                         --------------  -----  \n",
            " 0   Unnamed: 0                     20964 non-null  int64  \n",
            " 1   caso                           9834 non-null   float64\n",
            " 2   link                           9834 non-null   object \n",
            " 3   text                           9834 non-null   object \n",
            " 4   contexto                       11130 non-null  object \n",
            " 5   anónimo                        9834 non-null   float64\n",
            " 6   género                         9834 non-null   float64\n",
            " 7   mención migración              9834 non-null   float64\n",
            " 8   mención venezuela              9834 non-null   float64\n",
            " 9   mención política nacional      9834 non-null   float64\n",
            " 10  mención grupos marginalizados  9834 non-null   float64\n",
            " 11  mención otros                  9834 non-null   float64\n",
            " 12  grosería c/int.                9834 non-null   float64\n",
            " 13  grosería s/int.                9834 non-null   float64\n",
            " 14  insulto/sobrenombre            9834 non-null   float64\n",
            " 15  hate speech/estereotipo        9834 non-null   float64\n",
            " 16  sarcasmo/ironía/burla          9834 non-null   float64\n",
            " 17  pregunta legítima              9834 non-null   float64\n",
            " 18  evidencia                      9834 non-null   float64\n",
            " 19  figura femenina                9834 non-null   float64\n",
            " 20  figura masculina               9834 non-null   float64\n",
            " 21  region                         20964 non-null  int64  \n",
            " 22  dtst                           20964 non-null  object \n",
            " 23  label                          20964 non-null  int64  \n",
            "dtypes: float64(17), int64(3), object(4)\n",
            "memory usage: 3.8+ MB\n"
          ]
        }
      ]
    },
    {
      "cell_type": "code",
      "source": [
        "# Eliminar las columnas en las posiciones 1, 2 y desde la 4 hasta la 20\n",
        "columnas_a_eliminar = list(range(0, 3)) + list(range(4, 21))\n",
        "\n",
        "df_chileno.drop(df_chileno.columns[columnas_a_eliminar], axis=1, inplace=True)\n",
        "\n",
        "# Mostrar las primeras filas del dataframe actualizado para verificar los cambios\n",
        "print(df_chileno.shape)"
      ],
      "metadata": {
        "colab": {
          "base_uri": "https://localhost:8080/"
        },
        "id": "Aa-OYgPSGIsR",
        "outputId": "9dd1437f-f78b-4d47-948b-c60cf30dc740"
      },
      "execution_count": null,
      "outputs": [
        {
          "output_type": "stream",
          "name": "stdout",
          "text": [
            "(20964, 4)\n"
          ]
        }
      ]
    },
    {
      "cell_type": "code",
      "source": [
        "# Comprobar la distribución de la columna 'label'\n",
        "distribucion_label = df_chileno['label'].value_counts()\n",
        "print(\"Distribución de 'label':\")\n",
        "print(distribucion_label)\n",
        "\n",
        "# Comprobar la distribución de la columna 'region'\n",
        "distribucion_region = df_chileno['region'].value_counts()\n",
        "print(\"\\nDistribución de 'region':\")\n",
        "print(distribucion_region)"
      ],
      "metadata": {
        "colab": {
          "base_uri": "https://localhost:8080/"
        },
        "id": "F1JlLA-EMrl9",
        "outputId": "8435e4ef-40f7-49e4-bbf5-d7b617cbc769"
      },
      "execution_count": null,
      "outputs": [
        {
          "output_type": "stream",
          "name": "stdout",
          "text": [
            "Distribución de 'label':\n",
            "label\n",
            "0    15361\n",
            "1     5603\n",
            "Name: count, dtype: int64\n",
            "\n",
            "Distribución de 'region':\n",
            "region\n",
            "0    20964\n",
            "Name: count, dtype: int64\n"
          ]
        }
      ]
    },
    {
      "cell_type": "code",
      "source": [
        "# Comprobar el tipo de datos de cada columna\n",
        "tipos_de_datos = df_chileno.dtypes\n",
        "print(\"Tipos de datos por columna:\")\n",
        "print(tipos_de_datos)\n",
        "print(\"\\n\")\n",
        "\n",
        "# Comprobar valores nulos en cada columna\n",
        "valores_nulos = df_chileno.isnull().sum()\n",
        "print(\"Valores nulos por columna:\")\n",
        "print(valores_nulos)\n",
        "print(\"\\n\")\n",
        "\n",
        "# Comprobar si hay duplicados\n",
        "duplicados = df_chileno.duplicated().sum()\n",
        "print(f\"Número total de registros duplicados: {duplicados}\")"
      ],
      "metadata": {
        "colab": {
          "base_uri": "https://localhost:8080/"
        },
        "outputId": "589418c3-1b9d-42ab-d90b-4380fbb8d2fd",
        "id": "-G7yzi1uzerW"
      },
      "execution_count": null,
      "outputs": [
        {
          "output_type": "stream",
          "name": "stdout",
          "text": [
            "Tipos de datos por columna:\n",
            "text      object\n",
            "region     int64\n",
            "dtst      object\n",
            "label      int64\n",
            "dtype: object\n",
            "\n",
            "\n",
            "Valores nulos por columna:\n",
            "text      11130\n",
            "region        0\n",
            "dtst          0\n",
            "label         0\n",
            "dtype: int64\n",
            "\n",
            "\n",
            "Número total de registros duplicados: 11431\n"
          ]
        }
      ]
    },
    {
      "cell_type": "code",
      "source": [
        "# Eliminar los registros con valores nulos en la columna 'text'\n",
        "df_chileno_sin_nulos = df_chileno.dropna(subset=['text'])\n",
        "\n",
        "# Verificar si quedan valores nulos en el DataFrame\n",
        "valores_nulos = df_chileno_sin_nulos.isnull().sum()\n",
        "print(\"Valores nulos por columna después de eliminar:\")\n",
        "print(valores_nulos)\n",
        "\n",
        "# Mostrar el tamaño del DataFrame después de eliminar los registros nulos\n",
        "print(f\"Tamaño del DataFrame después de eliminar nulos: {df_chileno_sin_nulos.shape}\")"
      ],
      "metadata": {
        "colab": {
          "base_uri": "https://localhost:8080/"
        },
        "id": "uknGP-dJ0Rz8",
        "outputId": "e6b5bfa6-d5fd-4921-94ca-609fcda7b33b"
      },
      "execution_count": null,
      "outputs": [
        {
          "output_type": "stream",
          "name": "stdout",
          "text": [
            "Valores nulos por columna después de eliminar:\n",
            "text      0\n",
            "region    0\n",
            "dtst      0\n",
            "label     0\n",
            "dtype: int64\n",
            "Tamaño del DataFrame después de eliminar nulos: (9834, 4)\n"
          ]
        }
      ]
    },
    {
      "cell_type": "code",
      "source": [
        "# Mostrar los nombres de las columnas otra vez\n",
        "nombres_columnas = df_chileno.columns.tolist()\n",
        "print(f\"Revisar columnas: {nombres_columnas}\")"
      ],
      "metadata": {
        "colab": {
          "base_uri": "https://localhost:8080/"
        },
        "id": "xe39ctdjGT-W",
        "outputId": "93a72745-6b18-465e-fb46-8faeec405fe3"
      },
      "execution_count": null,
      "outputs": [
        {
          "output_type": "stream",
          "name": "stdout",
          "text": [
            "Revisar columnas: ['text', 'region', 'dtst', 'label']\n"
          ]
        }
      ]
    },
    {
      "cell_type": "markdown",
      "source": [
        "### StereoHoax-ES\n"
      ],
      "metadata": {
        "id": "pd3bG3SJvp8O"
      }
    },
    {
      "cell_type": "code",
      "source": [
        "# Cargar el archivo del dataset StereoHoax-ES desde Detest unificado en un dataframe\n",
        "file_path = '/content/gpdata_detests.csv'\n",
        "df_stereohoax = pd.read_csv(file_path)\n",
        "\n",
        "# Explorar el tamaño del dataframe\n",
        "tamaño = df_stereohoax.shape\n",
        "print(f\"Tamaño del DataFrame: {tamaño}\")\n",
        "\n",
        "# Mostrar los nombres de las columnas\n",
        "nombres_columnas = df_stereohoax.columns.tolist()\n",
        "print(f\"Nombres de las columnas: {nombres_columnas}\")"
      ],
      "metadata": {
        "colab": {
          "base_uri": "https://localhost:8080/"
        },
        "id": "S4RwX_q65Ao7",
        "outputId": "25e6e00f-0001-485b-c371-e74988cc3381"
      },
      "execution_count": null,
      "outputs": [
        {
          "output_type": "stream",
          "name": "stdout",
          "text": [
            "Tamaño del DataFrame: (12111, 18)\n",
            "Nombres de las columnas: ['source', 'id', 'comment_id', 'text', 'level2', 'level3', 'level4', 'stereotype_a1', 'stereotype_a2', 'stereotype_a3', 'stereotype', 'stereotype_soft', 'implicit_a1', 'implicit_a2', 'implicit_a3', 'implicit', 'implicit_soft', 'level1']\n"
          ]
        }
      ]
    },
    {
      "cell_type": "code",
      "source": [
        "# Mostrar los primeros registros\n",
        "print(df_stereohoax.head())"
      ],
      "metadata": {
        "colab": {
          "base_uri": "https://localhost:8080/"
        },
        "id": "T_fQBnVX6m5M",
        "outputId": "c573f52c-05d4-4a80-d91d-ab72d7cbb6ab"
      },
      "execution_count": null,
      "outputs": [
        {
          "output_type": "stream",
          "name": "stdout",
          "text": [
            "       source      id comment_id  \\\n",
            "0  stereohoax  s_4277     s_4277   \n",
            "1  stereohoax  s_4278     s_4278   \n",
            "2  stereohoax  s_4279     s_4279   \n",
            "3  stereohoax  s_4280     s_4280   \n",
            "4  stereohoax  s_4281     s_4281   \n",
            "\n",
            "                                                text  level2  level3 level4  \\\n",
            "0  Os cuento la historia de las trabajadoras marr...       0  s_4277  SP014   \n",
            "1  En Huelva hay 7000 hectáreas dedicadas a la ag...  s_4277  s_4277  SP014   \n",
            "2  En el año 2000 comenzó la contratación en orig...  s_4280  s_4277  SP014   \n",
            "3  Desde los años 90 la principal mano de obra ha...  s_4278  s_4277  SP014   \n",
            "4  En los asentamientos vive el ejército de mano ...  s_4282  s_4282  SP014   \n",
            "\n",
            "   stereotype_a1  stereotype_a2  stereotype_a3  stereotype  stereotype_soft  \\\n",
            "0              0              0              0           0           0.0474   \n",
            "1              0              0              0           0           0.0474   \n",
            "2              0              0              0           0           0.0474   \n",
            "3              1              0              1           1           0.7311   \n",
            "4              0              0              1           0           0.2689   \n",
            "\n",
            "   implicit_a1  implicit_a2  implicit_a3  implicit  implicit_soft level1  \n",
            "0            0            0            0         0         0.0474      0  \n",
            "1            0            0            0         0         0.0474      0  \n",
            "2            0            0            0         0         0.0474      0  \n",
            "3            1            0            0         0         0.2689      0  \n",
            "4            0            0            0         0         0.0474      0  \n"
          ]
        }
      ]
    },
    {
      "cell_type": "code",
      "source": [
        "# Contar los registros donde 'source' es igual a 'stereohoax'\n",
        "num_registros_stereohoax = df_stereohoax[df_stereohoax['source'] == \"stereohoax\"].shape[0]\n",
        "\n",
        "# Mostrar el número de registros\n",
        "print(f\"Número de registros donde 'source' es igual a 'stereohoax': {num_registros_stereohoax}\")"
      ],
      "metadata": {
        "colab": {
          "base_uri": "https://localhost:8080/"
        },
        "id": "IG05dNCm01Cp",
        "outputId": "78516ad4-b9b2-4775-ab54-d42a458e26b9"
      },
      "execution_count": null,
      "outputs": [
        {
          "output_type": "stream",
          "name": "stdout",
          "text": [
            "Número de registros donde 'source' es igual a 'stereohoax': 5349\n"
          ]
        }
      ]
    },
    {
      "cell_type": "code",
      "source": [
        "#Filtrar los registros donde 'source' es igual a 'stereohoax'\n",
        "df_stereohoax = df_stereohoax[df_stereohoax['source'] == \"stereohoax\"]"
      ],
      "metadata": {
        "id": "D-p1S7NSNhht"
      },
      "execution_count": null,
      "outputs": []
    },
    {
      "cell_type": "code",
      "source": [
        "# Ver otra vez el tamaño del dataframe\n",
        "tamaño = df_stereohoax.shape\n",
        "print(f\"Tamaño del DataFrame: {tamaño}\")"
      ],
      "metadata": {
        "colab": {
          "base_uri": "https://localhost:8080/"
        },
        "id": "GCOEoDNchKZO",
        "outputId": "3686f0ea-3ad1-42da-f2cc-fcb400cd508e"
      },
      "execution_count": null,
      "outputs": [
        {
          "output_type": "stream",
          "name": "stdout",
          "text": [
            "Tamaño del DataFrame: (5349, 18)\n"
          ]
        }
      ]
    },
    {
      "cell_type": "code",
      "source": [
        "# Renombrar la columna dtst\n",
        "df_stereohoax.rename(columns={'source': 'dtst'}, inplace=True)"
      ],
      "metadata": {
        "id": "kilzjaIwIXR0"
      },
      "execution_count": null,
      "outputs": []
    },
    {
      "cell_type": "code",
      "source": [
        "# Crear la columna 'region' al final con el valor '1' para identificar latam\n",
        "df_stereohoax['region'] = 1"
      ],
      "metadata": {
        "id": "XD2jheHIGoYf"
      },
      "execution_count": null,
      "outputs": []
    },
    {
      "cell_type": "code",
      "source": [
        "#setear valores para el label\n",
        "df_stereohoax['label'] = np.where(\n",
        "    (df_stereohoax['stereotype'] == 1.0) |\n",
        "    (df_stereohoax['implicit'] == 1.0),\n",
        "    1,  # Valor si alguna de las condiciones es verdadera\n",
        "    0   # Valor si todas las condiciones son falsas\n",
        ")"
      ],
      "metadata": {
        "id": "-HqPgEVmbxgq"
      },
      "execution_count": null,
      "outputs": []
    },
    {
      "cell_type": "code",
      "source": [
        "df_stereohoax.info()"
      ],
      "metadata": {
        "colab": {
          "base_uri": "https://localhost:8080/"
        },
        "id": "H1uaZgIwbGZq",
        "outputId": "3a2d63e0-8c48-4409-cdf3-b5862a2e6c47"
      },
      "execution_count": null,
      "outputs": [
        {
          "output_type": "stream",
          "name": "stdout",
          "text": [
            "<class 'pandas.core.frame.DataFrame'>\n",
            "Index: 5349 entries, 0 to 12110\n",
            "Data columns (total 20 columns):\n",
            " #   Column           Non-Null Count  Dtype  \n",
            "---  ------           --------------  -----  \n",
            " 0   dtst             5349 non-null   object \n",
            " 1   id               5349 non-null   object \n",
            " 2   comment_id       5349 non-null   object \n",
            " 3   text             5349 non-null   object \n",
            " 4   level2           5349 non-null   object \n",
            " 5   level3           5349 non-null   object \n",
            " 6   level4           5349 non-null   object \n",
            " 7   stereotype_a1    5349 non-null   int64  \n",
            " 8   stereotype_a2    5349 non-null   int64  \n",
            " 9   stereotype_a3    5349 non-null   int64  \n",
            " 10  stereotype       5349 non-null   int64  \n",
            " 11  stereotype_soft  5349 non-null   float64\n",
            " 12  implicit_a1      5349 non-null   int64  \n",
            " 13  implicit_a2      5349 non-null   int64  \n",
            " 14  implicit_a3      5349 non-null   int64  \n",
            " 15  implicit         5349 non-null   int64  \n",
            " 16  implicit_soft    5349 non-null   float64\n",
            " 17  level1           5349 non-null   object \n",
            " 18  region           5349 non-null   int64  \n",
            " 19  label            5349 non-null   int64  \n",
            "dtypes: float64(2), int64(10), object(8)\n",
            "memory usage: 877.6+ KB\n"
          ]
        }
      ]
    },
    {
      "cell_type": "code",
      "source": [
        "# Comprobar la distribución de la columna 'label'\n",
        "distribucion_label = df_stereohoax['label'].value_counts()\n",
        "print(\"Distribución de 'label':\")\n",
        "print(distribucion_label)\n",
        "\n",
        "# Comprobar la distribución de la columna 'region'\n",
        "distribucion_region = df_stereohoax['region'].value_counts()\n",
        "print(\"\\nDistribución de 'region':\")\n",
        "print(distribucion_region)"
      ],
      "metadata": {
        "colab": {
          "base_uri": "https://localhost:8080/"
        },
        "id": "I83qgsbVMu4t",
        "outputId": "6c21ee5c-85b8-4da4-8c57-9af06bd4321f"
      },
      "execution_count": null,
      "outputs": [
        {
          "output_type": "stream",
          "name": "stdout",
          "text": [
            "Distribución de 'label':\n",
            "label\n",
            "0    3745\n",
            "1    1604\n",
            "Name: count, dtype: int64\n",
            "\n",
            "Distribución de 'region':\n",
            "region\n",
            "1    5349\n",
            "Name: count, dtype: int64\n"
          ]
        }
      ]
    },
    {
      "cell_type": "code",
      "source": [
        "# Eliminar las columnas en la posición 2 y desde la posición 4 hasta la 17\n",
        "columnas_a_eliminar = [1] + [2] + list(range(4, 18))  # Incluir la posición 2 y el rango 4-17\n",
        "\n",
        "df_stereohoax.drop(df_stereohoax.columns[columnas_a_eliminar], axis=1, inplace=True)\n",
        "\n",
        "# Mostrar las primeras filas del dataframe actualizado para verificar los cambios\n",
        "print(df_stereohoax.shape)"
      ],
      "metadata": {
        "colab": {
          "base_uri": "https://localhost:8080/"
        },
        "id": "dFvMAAhAa8gz",
        "outputId": "dab96a17-6fa5-484b-cb0c-d0de8dc38565"
      },
      "execution_count": null,
      "outputs": [
        {
          "output_type": "stream",
          "name": "stdout",
          "text": [
            "(5349, 4)\n"
          ]
        }
      ]
    },
    {
      "cell_type": "code",
      "source": [
        "# Comprobar el tipo de datos de cada columna\n",
        "tipos_de_datos = df_stereohoax.dtypes\n",
        "print(\"Tipos de datos por columna:\")\n",
        "print(tipos_de_datos)\n",
        "print(\"\\n\")\n",
        "\n",
        "# Comprobar valores nulos en cada columna\n",
        "valores_nulos = df_stereohoax.isnull().sum()\n",
        "print(\"Valores nulos por columna:\")\n",
        "print(valores_nulos)\n",
        "print(\"\\n\")\n",
        "\n",
        "# Comprobar si hay duplicados\n",
        "duplicados = df_stereohoax.duplicated().sum()\n",
        "print(f\"Número total de registros duplicados: {duplicados}\")"
      ],
      "metadata": {
        "colab": {
          "base_uri": "https://localhost:8080/"
        },
        "id": "-y9GjeZU1VdI",
        "outputId": "9f0b6ffb-ee97-4ec9-8508-e67cc284fc77"
      },
      "execution_count": null,
      "outputs": [
        {
          "output_type": "stream",
          "name": "stdout",
          "text": [
            "Tipos de datos por columna:\n",
            "dtst      object\n",
            "text      object\n",
            "region     int64\n",
            "label      int64\n",
            "dtype: object\n",
            "\n",
            "\n",
            "Valores nulos por columna:\n",
            "dtst      0\n",
            "text      0\n",
            "region    0\n",
            "label     0\n",
            "dtype: int64\n",
            "\n",
            "\n",
            "Número total de registros duplicados: 8\n"
          ]
        }
      ]
    },
    {
      "cell_type": "code",
      "source": [
        "# Eliminar duplicados y conservar la primera aparición (comportamiento por defecto)\n",
        "df_stereohoax = df_stereohoax.drop_duplicates(keep='first')\n",
        "\n",
        "# Mostrar el tamaño del DataFrame después de eliminar duplicados\n",
        "print(f\"Tamaño del DataFrame después de eliminar duplicados: {df_stereohoax.shape}\")"
      ],
      "metadata": {
        "colab": {
          "base_uri": "https://localhost:8080/"
        },
        "outputId": "f3666d93-c45e-4442-c87e-aea1d9d59936",
        "id": "ejfAiaVT6YiW"
      },
      "execution_count": null,
      "outputs": [
        {
          "output_type": "stream",
          "name": "stdout",
          "text": [
            "Tamaño del DataFrame después de eliminar duplicados: (5341, 4)\n"
          ]
        }
      ]
    },
    {
      "cell_type": "code",
      "source": [
        "# Mostrar los nombres de las columnas otra vez\n",
        "nombres_columnas = df_stereohoax.columns.tolist()\n",
        "print(f\"Revisar columnas: {nombres_columnas}\")"
      ],
      "metadata": {
        "colab": {
          "base_uri": "https://localhost:8080/"
        },
        "id": "VqaDWHThGOS1",
        "outputId": "cf23c8ff-4c9f-40d5-bbc5-e40ec1319c64"
      },
      "execution_count": null,
      "outputs": [
        {
          "output_type": "stream",
          "name": "stdout",
          "text": [
            "Revisar columnas: ['dtst', 'text', 'region', 'label']\n"
          ]
        }
      ]
    },
    {
      "cell_type": "markdown",
      "source": [
        "###Gender Bias in Spanish Tweets"
      ],
      "metadata": {
        "id": "MDraVqj9vr2C"
      }
    },
    {
      "cell_type": "code",
      "source": [
        "# Cargar el archivo del dataset Gender Bias en un dataframe\n",
        "file_path = '/content/gpdata_gender_bias.csv'\n",
        "df_gender_bias = pd.read_csv(file_path)\n",
        "\n",
        "# Explorar el tamaño del dataframe\n",
        "tamaño = df_gender_bias.shape\n",
        "print(f\"Tamaño del DataFrame: {tamaño}\")\n",
        "\n",
        "# Mostrar los nombres de las columnas\n",
        "nombres_columnas = df_gender_bias.columns.tolist()\n",
        "print(f\"Nombres de las columnas: {nombres_columnas}\")"
      ],
      "metadata": {
        "colab": {
          "base_uri": "https://localhost:8080/"
        },
        "id": "My72laga5RVH",
        "outputId": "3ab93eb3-fc53-43c1-d3ce-b7fae5deb294"
      },
      "execution_count": null,
      "outputs": [
        {
          "output_type": "stream",
          "name": "stdout",
          "text": [
            "Tamaño del DataFrame: (1914, 2)\n",
            "Nombres de las columnas: ['Contents', 'Label']\n"
          ]
        }
      ]
    },
    {
      "cell_type": "code",
      "source": [
        "# Renombrar la columna text\n",
        "df_gender_bias.rename(columns={'Contents': 'text'}, inplace=True)"
      ],
      "metadata": {
        "id": "PKiRAShXHFux"
      },
      "execution_count": null,
      "outputs": []
    },
    {
      "cell_type": "code",
      "source": [
        "# Renombrar la columna label\n",
        "df_gender_bias.rename(columns={'Label': 'label'}, inplace=True)"
      ],
      "metadata": {
        "id": "EPw-as-IHdpH"
      },
      "execution_count": null,
      "outputs": []
    },
    {
      "cell_type": "code",
      "source": [
        "# Crear la columna 'region' al final con el valor '1' para identificar españa\n",
        "df_gender_bias['region'] = 1"
      ],
      "metadata": {
        "id": "lfosqE0WHF9P"
      },
      "execution_count": null,
      "outputs": []
    },
    {
      "cell_type": "code",
      "source": [
        "# Crear la columna 'dtst' al final con el valor 'gender_bias' para identificar el origen de los datos\n",
        "df_gender_bias['dtst'] = 'gender_bias'"
      ],
      "metadata": {
        "id": "fa6jepLUHF9P"
      },
      "execution_count": null,
      "outputs": []
    },
    {
      "cell_type": "code",
      "source": [
        "# Comprobar la distribución de la columna 'label'\n",
        "distribucion_label = df_gender_bias['label'].value_counts()\n",
        "print(\"Distribución de 'label':\")\n",
        "print(distribucion_label)\n",
        "\n",
        "# Comprobar la distribución de la columna 'region'\n",
        "distribucion_region = df_gender_bias['region'].value_counts()\n",
        "print(\"\\nDistribución de 'region':\")\n",
        "print(distribucion_region)"
      ],
      "metadata": {
        "colab": {
          "base_uri": "https://localhost:8080/"
        },
        "id": "J8rwYh64Myuq",
        "outputId": "6d0e7dc6-4288-4a77-858b-dfcedc3b5f3f"
      },
      "execution_count": null,
      "outputs": [
        {
          "output_type": "stream",
          "name": "stdout",
          "text": [
            "Distribución de 'label':\n",
            "label\n",
            "non-biased    1596\n",
            "biased         318\n",
            "Name: count, dtype: int64\n",
            "\n",
            "Distribución de 'region':\n",
            "region\n",
            "1    1914\n",
            "Name: count, dtype: int64\n"
          ]
        }
      ]
    },
    {
      "cell_type": "code",
      "source": [
        "# En df_gender_bias, setear el campo 'label'\n",
        "df_gender_bias['label'] = df_gender_bias['label'].replace({'non-biased': 0, 'biased': 1}).astype(int)"
      ],
      "metadata": {
        "id": "PJJJ5Ew0c-ae"
      },
      "execution_count": null,
      "outputs": []
    },
    {
      "cell_type": "code",
      "source": [
        "# Convertir la columna 'region' a int, asegurándose de que no haya valores no numéricos\n",
        "df_gender_bias['label'] = pd.to_numeric(df_gender_bias['label'], errors='coerce').astype('Int64')\n",
        "\n",
        "# Verificar el tipo de datos después de la conversión\n",
        "print(\"Tipos de datos después de la conversión:\")\n",
        "print(df_gender_bias.dtypes)\n",
        "\n",
        "# Mostrar las primeras filas para verificar\n",
        "print(df_gender_bias.head())"
      ],
      "metadata": {
        "colab": {
          "base_uri": "https://localhost:8080/"
        },
        "id": "OhpaSSXL7Gov",
        "outputId": "6f6104da-4017-4787-8f3c-0aabd01c654e"
      },
      "execution_count": null,
      "outputs": [
        {
          "output_type": "stream",
          "name": "stdout",
          "text": [
            "Tipos de datos después de la conversión:\n",
            "text      object\n",
            "label      Int64\n",
            "region     int64\n",
            "dtst      object\n",
            "dtype: object\n",
            "                                                text  label  region  \\\n",
            "0  @chumeltorres ya cabrón! sin tí se reciben las...      1       1   \n",
            "1  ¿alguien es tan amable de ir a hacerme la comp...      0       1   \n",
            "2  @jenniferduquee hahaha, si está rico, nadamas ...      0       1   \n",
            "3  @evagelcot donde lo ves!!? es mi programa favo...      0       1   \n",
            "4  como siempre mi tortilla triunfa mas que otros...      0       1   \n",
            "\n",
            "          dtst  \n",
            "0  gender_bias  \n",
            "1  gender_bias  \n",
            "2  gender_bias  \n",
            "3  gender_bias  \n",
            "4  gender_bias  \n"
          ]
        }
      ]
    },
    {
      "cell_type": "code",
      "source": [
        "# Mostrar los primeros registros\n",
        "print(df_gender_bias.head())"
      ],
      "metadata": {
        "colab": {
          "base_uri": "https://localhost:8080/"
        },
        "id": "MnC7mXrJ6pZt",
        "outputId": "fee07de8-6d66-4d09-b41f-7d85637ee1db"
      },
      "execution_count": null,
      "outputs": [
        {
          "output_type": "stream",
          "name": "stdout",
          "text": [
            "                                                text  label  region  \\\n",
            "0  @chumeltorres ya cabrón! sin tí se reciben las...      1       1   \n",
            "1  ¿alguien es tan amable de ir a hacerme la comp...      0       1   \n",
            "2  @jenniferduquee hahaha, si está rico, nadamas ...      0       1   \n",
            "3  @evagelcot donde lo ves!!? es mi programa favo...      0       1   \n",
            "4  como siempre mi tortilla triunfa mas que otros...      0       1   \n",
            "\n",
            "          dtst  \n",
            "0  gender_bias  \n",
            "1  gender_bias  \n",
            "2  gender_bias  \n",
            "3  gender_bias  \n",
            "4  gender_bias  \n"
          ]
        }
      ]
    },
    {
      "cell_type": "code",
      "source": [
        "# Comprobar el tipo de datos de cada columna\n",
        "tipos_de_datos = df_gender_bias.dtypes\n",
        "print(\"Tipos de datos por columna:\")\n",
        "print(tipos_de_datos)\n",
        "print(\"\\n\")\n",
        "\n",
        "# Comprobar valores nulos en cada columna\n",
        "valores_nulos = df_gender_bias.isnull().sum()\n",
        "print(\"Valores nulos por columna:\")\n",
        "print(valores_nulos)\n",
        "print(\"\\n\")\n",
        "\n",
        "# Comprobar si hay duplicados\n",
        "duplicados = df_gender_bias.duplicated().sum()\n",
        "print(f\"Número total de registros duplicados: {duplicados}\")"
      ],
      "metadata": {
        "colab": {
          "base_uri": "https://localhost:8080/"
        },
        "id": "KbDIphZp7F-S",
        "outputId": "6500f380-6a7a-4dd5-9e10-3c3a72d2bb54"
      },
      "execution_count": null,
      "outputs": [
        {
          "output_type": "stream",
          "name": "stdout",
          "text": [
            "Tipos de datos por columna:\n",
            "text      object\n",
            "label      Int64\n",
            "region     int64\n",
            "dtst      object\n",
            "dtype: object\n",
            "\n",
            "\n",
            "Valores nulos por columna:\n",
            "text      0\n",
            "label     0\n",
            "region    0\n",
            "dtst      0\n",
            "dtype: int64\n",
            "\n",
            "\n",
            "Número total de registros duplicados: 0\n"
          ]
        }
      ]
    },
    {
      "cell_type": "code",
      "source": [
        "# Mostrar los nombres de las columnas otra vez\n",
        "nombres_columnas = df_gender_bias.columns.tolist()\n",
        "print(f\"Revisar columnas: {nombres_columnas}\")"
      ],
      "metadata": {
        "colab": {
          "base_uri": "https://localhost:8080/"
        },
        "id": "UIVqPfQSdMll",
        "outputId": "e27bf977-ede8-4d56-9d1a-1e94760d12bd"
      },
      "execution_count": null,
      "outputs": [
        {
          "output_type": "stream",
          "name": "stdout",
          "text": [
            "Revisar columnas: ['text', 'label', 'region', 'dtst']\n"
          ]
        }
      ]
    },
    {
      "cell_type": "markdown",
      "source": [
        "##Fusión de datasets"
      ],
      "metadata": {
        "id": "QJDwo3wtvagn"
      }
    },
    {
      "cell_type": "code",
      "source": [
        "# Comprobar los campos de todos los dataframes\n",
        "\n",
        "print(f\"HaSCoSVa: {df_h.columns.tolist()}\")\n",
        "print(f\"Multilingual: {df_m.columns.tolist()}\")\n",
        "print(f\"MEX_A3T: {df_mex_unif.columns.tolist()}\")\n",
        "print(f\"Chileno: {df_chileno.columns.tolist()}\")\n",
        "print(f\"StereoHoax: {df_stereohoax.columns.tolist()}\")\n",
        "print(f\"GenderBias: {df_gender_bias.columns.tolist()}\")\n"
      ],
      "metadata": {
        "colab": {
          "base_uri": "https://localhost:8080/"
        },
        "id": "0Ndkb1XZyrjT",
        "outputId": "e3e93cab-6bb6-46d8-c914-f3b820937c90"
      },
      "execution_count": null,
      "outputs": [
        {
          "output_type": "stream",
          "name": "stdout",
          "text": [
            "HaSCoSVa: ['text', 'region', 'dtst', 'label']\n",
            "Multilingual: ['text', 'region', 'dtst', 'label']\n",
            "MEX_A3T: ['text', 'region', 'dtst', 'label']\n",
            "Chileno: ['text', 'region', 'dtst', 'label']\n",
            "StereoHoax: ['dtst', 'text', 'region', 'label']\n",
            "GenderBias: ['text', 'label', 'region', 'dtst']\n"
          ]
        }
      ]
    },
    {
      "cell_type": "code",
      "source": [
        "# Convertir la columna 'region' a int64 en todos los dataframes\n",
        "df_h['region'] = df_h['region'].astype(int)\n",
        "df_m['region'] = df_m['region'].astype(int)\n",
        "df_mex_unif['region'] = df_mex_unif['region'].astype(int)\n",
        "df_chileno['region'] = df_chileno['region'].astype(int)\n",
        "df_stereohoax['region'] = df_stereohoax['region'].astype(int)\n",
        "df_gender_bias['region'] = df_gender_bias['region'].astype(int)"
      ],
      "metadata": {
        "id": "DhOu7DnejSXp"
      },
      "execution_count": null,
      "outputs": []
    },
    {
      "cell_type": "code",
      "source": [
        "# Convertir la columna 'label' a int64 en todos los dataframes\n",
        "df_h['label'] = df_h['label'].astype(int)\n",
        "df_m['label'] = df_m['label'].astype(int)\n",
        "df_mex_unif['label'] = df_mex_unif['label'].astype(int)\n",
        "df_chileno['label'] = df_chileno['label'].astype(int)\n",
        "df_stereohoax['label'] = df_stereohoax['label'].astype(int)\n",
        "df_gender_bias['label'] = df_gender_bias['label'].astype(int)"
      ],
      "metadata": {
        "id": "D2nuc7b9jTdk"
      },
      "execution_count": null,
      "outputs": []
    },
    {
      "cell_type": "code",
      "source": [
        "# Reordenar las columnas de cada dataframe\n",
        "df_h = df_h[['text', 'region', 'dtst', 'label']]\n",
        "df_m = df_m[['text', 'region', 'dtst', 'label']]\n",
        "df_mex_unif = df_mex_unif[['text', 'region', 'dtst', 'label']]\n",
        "df_chileno = df_chileno[['text', 'region', 'dtst', 'label']]\n",
        "df_stereohoax = df_stereohoax[['text', 'region', 'dtst', 'label']]\n",
        "df_gender_bias = df_gender_bias[['text', 'region', 'dtst', 'label']]\n",
        "\n",
        "# Unificar todos los datasets\n",
        "df_unificado = pd.concat([df_h, df_m, df_mex_unif, df_chileno, df_stereohoax, df_gender_bias], ignore_index=True)\n",
        "\n",
        "# Verificar el tamaño y los primeros registros del dataframe unificado\n",
        "print(f\"Tamaño del dataframe unificado: {df_unificado.shape}\")\n",
        "print(df_unificado.head())"
      ],
      "metadata": {
        "colab": {
          "base_uri": "https://localhost:8080/"
        },
        "id": "8MBrHH2WdxSZ",
        "outputId": "abdb038d-59a6-4f96-8307-811f970696c6"
      },
      "execution_count": null,
      "outputs": [
        {
          "output_type": "stream",
          "name": "stdout",
          "text": [
            "Tamaño del dataframe unificado: (41192, 4)\n",
            "                                                text  region      dtst  label\n",
            "0  Avión venezolano: ocho tripulantes coinciden e...       0  hascosva      0\n",
            "1  Aquí pidiéndole consejos al amigo veneco pa so...       0  hascosva      0\n",
            "2  @oamz Cínicos desinforman con guión preparado,...       0  hascosva      0\n",
            "3                   @oamj No se chama dime tu 🤭🤭🤣😛😅😅       0  hascosva      0\n",
            "4  Gobierno de Bélgica ustedes que albergan a Raf...       0  hascosva      0\n"
          ]
        }
      ]
    },
    {
      "cell_type": "code",
      "source": [
        "# Mostrar información del dataframe unificado\n",
        "print(\"Dimensiones del dataframe:\", df_unificado.shape)\n",
        "print(\"\\nTipos de datos:\\n\", df_unificado.dtypes)\n",
        "print(\"\\nDataFrame unificado: \", df_unificado.info())"
      ],
      "metadata": {
        "colab": {
          "base_uri": "https://localhost:8080/"
        },
        "id": "ouPBwkSI1w3U",
        "outputId": "9a57ec3c-2bf7-4103-9979-e0b6f8c17532"
      },
      "execution_count": null,
      "outputs": [
        {
          "output_type": "stream",
          "name": "stdout",
          "text": [
            "Dimensiones del dataframe: (41192, 4)\n",
            "\n",
            "Tipos de datos:\n",
            " text      object\n",
            "region     int64\n",
            "dtst      object\n",
            "label      int64\n",
            "dtype: object\n",
            "<class 'pandas.core.frame.DataFrame'>\n",
            "RangeIndex: 41192 entries, 0 to 41191\n",
            "Data columns (total 4 columns):\n",
            " #   Column  Non-Null Count  Dtype \n",
            "---  ------  --------------  ----- \n",
            " 0   text    30062 non-null  object\n",
            " 1   region  41192 non-null  int64 \n",
            " 2   dtst    41192 non-null  object\n",
            " 3   label   41192 non-null  int64 \n",
            "dtypes: int64(2), object(2)\n",
            "memory usage: 1.3+ MB\n",
            "\n",
            "DataFrame unificado:  None\n"
          ]
        }
      ]
    },
    {
      "cell_type": "code",
      "source": [
        "# Comprobar el tipo de datos de cada columna\n",
        "tipos_de_datos = df_unificado.dtypes\n",
        "print(\"Tipos de datos por columna:\")\n",
        "print(tipos_de_datos)\n",
        "print(\"\\n\")\n",
        "\n",
        "# Comprobar valores nulos en cada columna\n",
        "valores_nulos = df_unificado.isnull().sum()\n",
        "print(\"Valores nulos por columna:\")\n",
        "print(valores_nulos)\n",
        "print(\"\\n\")\n",
        "\n",
        "# Comprobar si hay duplicados\n",
        "duplicados = df_unificado.duplicated().sum()\n",
        "print(f\"Número total de registros duplicados: {duplicados}\")"
      ],
      "metadata": {
        "id": "mtC1aCqQ7xo5",
        "colab": {
          "base_uri": "https://localhost:8080/"
        },
        "outputId": "76250562-a8a2-4c99-fc1b-6cf6671d1815"
      },
      "execution_count": null,
      "outputs": [
        {
          "output_type": "stream",
          "name": "stdout",
          "text": [
            "Tipos de datos por columna:\n",
            "text      object\n",
            "region     int64\n",
            "dtst      object\n",
            "label      int64\n",
            "dtype: object\n",
            "\n",
            "\n",
            "Valores nulos por columna:\n",
            "text      11130\n",
            "region        0\n",
            "dtst          0\n",
            "label         0\n",
            "dtype: int64\n",
            "\n",
            "\n",
            "Número total de registros duplicados: 11431\n"
          ]
        }
      ]
    },
    {
      "cell_type": "code",
      "source": [
        "# Identificar los registros duplicados\n",
        "duplicados = df_unificado[df_unificado.duplicated(keep=False)]  # keep=False muestra todas las filas duplicadas, no solo una\n",
        "\n",
        "# Mostrar los registros duplicados\n",
        "print(f\"Registros duplicados encontrados: {duplicados.shape[0]}\")\n",
        "if duplicados.shape[0] > 0:\n",
        "    print(\"Ejemplos de duplicados:\")\n",
        "    print(duplicados.head(10))  # Mostrar los primeros 10 registros duplicados"
      ],
      "metadata": {
        "colab": {
          "base_uri": "https://localhost:8080/"
        },
        "id": "CI87B8-JJ-QQ",
        "outputId": "382b2df3-ae2b-49a7-fe10-6c6821f0ebb9"
      },
      "execution_count": null,
      "outputs": [
        {
          "output_type": "stream",
          "name": "stdout",
          "text": [
            "Registros duplicados encontrados: 11734\n",
            "Ejemplos de duplicados:\n",
            "      text  region     dtst  label\n",
            "12975  NaN       0  chileno      0\n",
            "12976  NaN       0  chileno      0\n",
            "12979  NaN       0  chileno      0\n",
            "12980  NaN       0  chileno      0\n",
            "12981  NaN       0  chileno      0\n",
            "12983  NaN       0  chileno      0\n",
            "12985  NaN       0  chileno      0\n",
            "12988  NaN       0  chileno      0\n",
            "12990  NaN       0  chileno      0\n",
            "12992  NaN       0  chileno      0\n"
          ]
        }
      ]
    },
    {
      "cell_type": "code",
      "source": [
        "# Eliminar duplicados y conservar la primera aparición (comportamiento por defecto)\n",
        "df_unificado = df_unificado.drop_duplicates(keep='first')\n",
        "\n",
        "# Mostrar el tamaño del DataFrame después de eliminar duplicados\n",
        "print(f\"Tamaño del DataFrame después de eliminar duplicados: {df_unificado.shape}\")"
      ],
      "metadata": {
        "colab": {
          "base_uri": "https://localhost:8080/"
        },
        "id": "uA-nXA5BKzDv",
        "outputId": "a69f4028-0133-4220-ed6c-eae1d14f3ff6"
      },
      "execution_count": null,
      "outputs": [
        {
          "output_type": "stream",
          "name": "stdout",
          "text": [
            "Tamaño del DataFrame después de eliminar duplicados: (29761, 4)\n"
          ]
        }
      ]
    },
    {
      "cell_type": "code",
      "source": [
        "print(\"Dimensiones del dataframe:\", df_unificado.shape)"
      ],
      "metadata": {
        "colab": {
          "base_uri": "https://localhost:8080/"
        },
        "id": "qWPy6VLKd-B1",
        "outputId": "c0f32de0-7589-4e2b-e20b-16e3a16c0326"
      },
      "execution_count": null,
      "outputs": [
        {
          "output_type": "stream",
          "name": "stdout",
          "text": [
            "Dimensiones del dataframe: (29761, 4)\n"
          ]
        }
      ]
    },
    {
      "cell_type": "code",
      "source": [
        "# Exportar el dataframe a un archivo CSV\n",
        "df_unificado.to_csv('tweets_toxicos_fusion.csv', index=False)"
      ],
      "metadata": {
        "id": "rnm8GNdV8cwf"
      },
      "execution_count": null,
      "outputs": []
    }
  ]
}